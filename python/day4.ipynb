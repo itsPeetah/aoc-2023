{
 "cells": [
  {
   "cell_type": "code",
   "execution_count": 27,
   "metadata": {},
   "outputs": [],
   "source": [
    "def getInput():\n",
    "    return open(\"../input/day_4.txt\").read()\n",
    "\n",
    "def getInputLines():\n",
    "    return getInput().split(\"\\n\")"
   ]
  },
  {
   "cell_type": "markdown",
   "metadata": {},
   "source": [
    "# Day 4 Part 1"
   ]
  },
  {
   "cell_type": "code",
   "execution_count": 73,
   "metadata": {},
   "outputs": [
    {
     "data": {
      "text/plain": [
       "21088"
      ]
     },
     "execution_count": 73,
     "metadata": {},
     "output_type": "execute_result"
    }
   ],
   "source": [
    "import re\n",
    "\n",
    "text = getInputLines()\n",
    "\n",
    "# text = \"\"\"\n",
    "# Card 1: 41 48 83 86 17 | 83 86  6 31 17  9 48 53\n",
    "# Card 2: 13 32 20 16 61 | 61 30 68 82 17 32 24 19\n",
    "# Card 3:  1 21 53 59 44 | 69 82 63 72 16 21 14  1\n",
    "# Card 4: 41 92 73 84 69 | 59 84 76 51 58  5 54 83\n",
    "# Card 5: 87 83 26 28 32 | 88 30 70 12 93 22 82 36\n",
    "# Card 6: 31 18 13 56 72 | 74 77 10 23 35 67 36 11\n",
    "# \"\"\".strip().split(\"\\n\")\n",
    "\n",
    "PADDING = 10\n",
    "\n",
    "#                           v double \"+\" to avoid matching the first two digits of three digit card nums\n",
    "matches = [re.findall(r\"(\\d++)(?!\\:)\", line) for line in text]\n",
    "games = [(m[:PADDING], m[PADDING:]) for m in matches]\n",
    "#   points v    v exp. doubling         matching numbers v        discard not matching v\n",
    "points = [2 ** (w-1) for w in [len([n for n in g[1] if n in g[0]]) for g in games] if w > 0]\n",
    "sum(points)\n"
   ]
  },
  {
   "cell_type": "markdown",
   "metadata": {},
   "source": [
    "# Day 4 Part 2"
   ]
  },
  {
   "cell_type": "code",
   "execution_count": 91,
   "metadata": {},
   "outputs": [
    {
     "data": {
      "text/plain": [
       "6874754"
      ]
     },
     "execution_count": 91,
     "metadata": {},
     "output_type": "execute_result"
    }
   ],
   "source": [
    "import re\n",
    "\n",
    "text = getInputLines()\n",
    "\n",
    "# text = \"\"\"\n",
    "# Card 1: 41 48 83 86 17 | 83 86  6 31 17  9 48 53\n",
    "# Card 2: 13 32 20 16 61 | 61 30 68 82 17 32 24 19\n",
    "# Card 3:  1 21 53 59 44 | 69 82 63 72 16 21 14  1\n",
    "# Card 4: 41 92 73 84 69 | 59 84 76 51 58  5 54 83\n",
    "# Card 5: 87 83 26 28 32 | 88 30 70 12 93 22 82 36\n",
    "# Card 6: 31 18 13 56 72 | 74 77 10 23 35 67 36 11\n",
    "# \"\"\".strip().split(\"\\n\")\n",
    "\n",
    "PADDING = 10\n",
    "\n",
    "matches = [re.findall(r\"(\\d++)(?!\\:)\", line) for line in text]\n",
    "games = [[m[:PADDING], m[PADDING:], 1] for m in matches]\n",
    "# points = [w for w in [len([n for n in g[1] if n in g[0]]) for g in games]]\n",
    "for i in range(len(games)):\n",
    "    a = (winning, owned, copies) = games[i]\n",
    "    matching = len([n for n in owned if n in winning])\n",
    "    for j in range(i+1, min(len(games), i+matching+1)):\n",
    "        games[j][2] += copies\n",
    "sum([copies for *_, copies in games])\n"
   ]
  },
  {
   "cell_type": "code",
   "execution_count": null,
   "metadata": {},
   "outputs": [],
   "source": []
  }
 ],
 "metadata": {
  "kernelspec": {
   "display_name": "Python 3",
   "language": "python",
   "name": "python3"
  },
  "language_info": {
   "codemirror_mode": {
    "name": "ipython",
    "version": 3
   },
   "file_extension": ".py",
   "mimetype": "text/x-python",
   "name": "python",
   "nbconvert_exporter": "python",
   "pygments_lexer": "ipython3",
   "version": "3.11.3"
  }
 },
 "nbformat": 4,
 "nbformat_minor": 2
}
