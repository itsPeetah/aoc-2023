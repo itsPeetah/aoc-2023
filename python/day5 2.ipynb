{
 "cells": [
  {
   "cell_type": "code",
   "execution_count": 1,
   "metadata": {},
   "outputs": [],
   "source": [
    "def getInput():\n",
    "    return open(\"../input/day_5.txt\").read()\n",
    "\n",
    "def getInputLines():\n",
    "    return getInput().split(\"\\n\")"
   ]
  },
  {
   "cell_type": "markdown",
   "metadata": {},
   "source": [
    "# Day 5 Part 1\n",
    "\n",
    "parsing: /`(^\\n?[a-zA-Z\\-\\:\\s]+)((\\d+[.\\s]?)+)`/gms"
   ]
  },
  {
   "cell_type": "code",
   "execution_count": 3,
   "metadata": {},
   "outputs": [
    {
     "data": {
      "text/plain": [
       "331445006"
      ]
     },
     "execution_count": 3,
     "metadata": {},
     "output_type": "execute_result"
    }
   ],
   "source": [
    "import re\n",
    "\n",
    "text = getInput()\n",
    "\n",
    "# text = \"\"\"\n",
    "# seeds: 79 14 55 13\n",
    "\n",
    "# seed-to-soil map:\n",
    "# 50 98 2\n",
    "# 52 50 48\n",
    "\n",
    "# soil-to-fertilizer map:\n",
    "# 0 15 37\n",
    "# 37 52 2\n",
    "# 39 0 15\n",
    "\n",
    "# fertilizer-to-water map:\n",
    "# 49 53 8\n",
    "# 0 11 42\n",
    "# 42 0 7\n",
    "# 57 7 4\n",
    "\n",
    "# water-to-light map:\n",
    "# 88 18 7\n",
    "# 18 25 70\n",
    "\n",
    "# light-to-temperature map:\n",
    "# 45 77 23\n",
    "# 81 45 19\n",
    "# 68 64 13\n",
    "\n",
    "# temperature-to-humidity map:\n",
    "# 0 69 1\n",
    "# 1 0 69\n",
    "\n",
    "# humidity-to-location map:\n",
    "# 60 56 37\n",
    "# 56 93 4\n",
    "# \"\"\".strip()\n",
    "\n",
    "# match all numbers, first match is seed line, subsequent matches are the maps\n",
    "seeds, *maps = [\n",
    "    [int(v) for v in re.findall(r\"\\d+\", match.groups()[1], flags=re.MULTILINE)]\n",
    "    for match in re.finditer(r\"(^\\n?[a-zA-Z\\-\\:\\s]+)((\\d+[.\\s]?)+)\", text, flags=re.MULTILINE)\n",
    "    ]\n",
    "# sort ranges in maps based on their start number\n",
    "maps = [sorted(r, key=lambda x: x[1]) for r in\n",
    "    [[m[i:i+3] for i in range(0, len(m), 3)] for m in maps]]\n",
    "\n",
    "# main\n",
    "locs = []\n",
    "for seed in seeds:\n",
    "    temp = seed\n",
    "    for map in maps:\n",
    "        for (dst, src, span) in map:\n",
    "            if src <= temp < src + span:\n",
    "                temp = dst + (temp - src)\n",
    "                break\n",
    "    locs.append(temp)\n",
    "min(locs)\n",
    "# 331445006\n"
   ]
  },
  {
   "cell_type": "markdown",
   "metadata": {},
   "source": [
    "# Day 5 Part 2\n",
    "\n",
    "- 24092691 too high\n",
    "- 20522066 too high\n",
    "- 19624706 too high"
   ]
  },
  {
   "cell_type": "code",
   "execution_count": 4,
   "metadata": {},
   "outputs": [
    {
     "name": "stdout",
     "output_type": "stream",
     "text": [
      "0 [(81, 14), (57, 13)]\n",
      "1 [(81, 14), (57, 13)]\n",
      "2 [(53, 8), (81, 14), (61, 10)]\n",
      "3 [(46, 8), (74, 14), (54, 10)]\n",
      "4 [(45, 23), (82, 8), (90, 10), (78, 13), (77, 2)]\n",
      "5 [(46, 23), (82, 8), (90, 10), (78, 13), (77, 2)]\n",
      "6 [(60, 37), (86, 8), (94, 37), (82, 13), (81, 2), (56, 4), (46, 11), (97, 5)]\n",
      "result is: 46\n"
     ]
    }
   ],
   "source": [
    "import re\n",
    "\n",
    "text = \"\"\"\n",
    "seeds: 79 14 55 13\n",
    "\n",
    "seed-to-soil map:\n",
    "50 98 2\n",
    "52 50 48\n",
    "\n",
    "soil-to-fertilizer map:\n",
    "0 15 37\n",
    "37 52 2\n",
    "39 0 15\n",
    "\n",
    "fertilizer-to-water map:\n",
    "49 53 8\n",
    "0 11 42\n",
    "42 0 7\n",
    "57 7 4\n",
    "\n",
    "water-to-light map:\n",
    "88 18 7\n",
    "18 25 70\n",
    "\n",
    "light-to-temperature map:\n",
    "45 77 23\n",
    "81 45 19\n",
    "68 64 13\n",
    "\n",
    "temperature-to-humidity map:\n",
    "0 69 1\n",
    "1 0 69\n",
    "\n",
    "humidity-to-location map:\n",
    "60 56 37\n",
    "56 93 4\n",
    "\"\"\".strip()\n",
    "\n",
    "text = getInput()\n",
    "\n",
    "seeds, *maps = [[int(v) for v in re.findall(r\"\\d+\", match.groups()[1], flags=re.MULTILINE)] for match in re.finditer(r\"(^\\n?[a-zA-Z\\-\\:\\s]+)((\\d+[.\\s]?)+)\", text, flags=re.MULTILINE)]\n",
    "seeds = [seeds[i:i+2] for i in range(0, len(seeds), 2)]\n",
    "maps = [[m[i:i+3] for i in range(0, len(m), 3)] for m in maps]\n",
    "\n",
    "for_next_map = [seed for seed in seeds]\n",
    "for i, rules in enumerate(maps):\n",
    "    for_next_rule = [seed for seed in for_next_map]\n",
    "    for_next_map = []\n",
    "    for (r_dst, r_start, r_len) in rules:\n",
    "        for_this_rule = [seed for seed in for_next_rule]\n",
    "        for_next_rule = []\n",
    "        for (s_start, s_len) in for_this_rule:\n",
    "            r_shift = r_dst - r_start\n",
    "            r_end = r_start + r_len - 1\n",
    "            s_end = s_start + s_len - 1\n",
    "            if s_end < r_start or s_start > r_end: # no overlap\n",
    "                for_next_rule.append((s_start, s_len))\n",
    "            elif s_start >= r_start and s_end <= r_end: # seed range is fully included in rule\n",
    "                for_next_map.append((s_start + r_shift, s_len))\n",
    "            elif s_start >= r_start: # seed range ends after rule\n",
    "                for_next_map.append((s_start + r_shift, r_len))\n",
    "                for_next_rule.append((r_end + 1, s_end - r_end + 1))\n",
    "            elif s_end <= r_end: # seed range starts before rule\n",
    "                for_next_map.append((r_start + r_shift, r_len))\n",
    "                for_next_rule.append((s_start, r_start - s_start + 1 ))\n",
    "            else: # seed range fully contains rule\n",
    "                for_next_map.append((r_start + r_shift, r_len))\n",
    "                for_next_rule.append((s_start, r_start - s_start))\n",
    "                for_next_rule.append((r_end + 1, s_end-r_end+1))        \n",
    "            # print(i, for_next_rule)\n",
    "    for_next_map += for_next_rule\n",
    "    print(i, for_next_map)\n",
    "print(\"result is:\", min(for_next_map, key=lambda x: x[0])[0])\n"
   ]
  },
  {
   "cell_type": "code",
   "execution_count": null,
   "metadata": {},
   "outputs": [],
   "source": []
  }
 ],
 "metadata": {
  "kernelspec": {
   "display_name": "Python 3",
   "language": "python",
   "name": "python3"
  },
  "language_info": {
   "codemirror_mode": {
    "name": "ipython",
    "version": 3
   },
   "file_extension": ".py",
   "mimetype": "text/x-python",
   "name": "python",
   "nbconvert_exporter": "python",
   "pygments_lexer": "ipython3",
   "version": "3.11.3"
  }
 },
 "nbformat": 4,
 "nbformat_minor": 2
}
