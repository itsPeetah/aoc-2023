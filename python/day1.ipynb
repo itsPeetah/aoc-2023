{
 "cells": [
  {
   "cell_type": "markdown",
   "metadata": {},
   "source": [
    "# Day 1 Part 1"
   ]
  },
  {
   "cell_type": "code",
   "execution_count": 3,
   "metadata": {},
   "outputs": [],
   "source": [
    "def getInputLines():\n",
    "    return open(\"../input/day_1.txt\").read().split(\"\\n\")"
   ]
  },
  {
   "cell_type": "code",
   "execution_count": 14,
   "metadata": {},
   "outputs": [
    {
     "data": {
      "text/plain": [
       "54990"
      ]
     },
     "execution_count": 14,
     "metadata": {},
     "output_type": "execute_result"
    }
   ],
   "source": [
    "import re\n",
    "\n",
    "text = getInputLines()\n",
    "digits = [re.findall(\"\\d\", line) for line in text]\n",
    "nums = [int(d[0]+d[-1]) for d in digits]\n",
    "result = sum(nums)\n",
    "result\n"
   ]
  },
  {
   "cell_type": "markdown",
   "metadata": {},
   "source": [
    "# Day 1 Part 2"
   ]
  },
  {
   "cell_type": "code",
   "execution_count": 23,
   "metadata": {},
   "outputs": [
    {
     "data": {
      "text/plain": [
       "54489"
      ]
     },
     "execution_count": 23,
     "metadata": {},
     "output_type": "execute_result"
    }
   ],
   "source": [
    "values = {\n",
    "    \"zero\":\"0\",\"one\":\"1\", \"two\":\"2\", \"three\":\"3\", \"four\":\"4\", \"five\":\"5\", \"six\":\"6\", \"seven\":\"7\", \"eight\":\"8\", \"nine\":\"9\",\n",
    "    \"0\":\"0\",\"1\":\"1\", \"2\":\"2\", \"3\":\"3\", \"4\":\"4\", \"5\":\"5\", \"6\":\"6\", \"7\":\"7\", \"8\":\"8\", \"9\":\"9\"\n",
    "}\n",
    "\n",
    "\n",
    "text = getInputLines()\n",
    "digits = [re.findall(\"(?=(\\d|one|two|three|four|five|six|seven|eight|nine))\", line) for line in text]\n",
    "nums = [int(values[d[0]]+values[d[-1]]) for d in digits]\n",
    "result = sum(nums)\n",
    "result"
   ]
  },
  {
   "cell_type": "code",
   "execution_count": 25,
   "metadata": {},
   "outputs": [
    {
     "data": {
      "text/plain": [
       "[['one', '8', '5', '7'],\n",
       " ['six', 'nine', '1', 'five', 'seven'],\n",
       " ['three', '8', 'two', 'one'],\n",
       " ['2', '2', '3', '5', 'nine'],\n",
       " ['eight', 'six', 'one', '4', '7', 'four']]"
      ]
     },
     "execution_count": 25,
     "metadata": {},
     "output_type": "execute_result"
    }
   ],
   "source": [
    "[re.findall(\"(?=(\\d|one|two|three|four|five|six|seven|eight|nine))\", line) for line in text][60:65]"
   ]
  },
  {
   "cell_type": "code",
   "execution_count": null,
   "metadata": {},
   "outputs": [],
   "source": []
  }
 ],
 "metadata": {
  "kernelspec": {
   "display_name": "Python 3",
   "language": "python",
   "name": "python3"
  },
  "language_info": {
   "codemirror_mode": {
    "name": "ipython",
    "version": 3
   },
   "file_extension": ".py",
   "mimetype": "text/x-python",
   "name": "python",
   "nbconvert_exporter": "python",
   "pygments_lexer": "ipython3",
   "version": "3.11.3"
  }
 },
 "nbformat": 4,
 "nbformat_minor": 2
}
