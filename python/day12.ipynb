{
 "cells": [
  {
   "cell_type": "code",
   "execution_count": 1,
   "metadata": {},
   "outputs": [],
   "source": [
    "def getInput():\n",
    "    return open(\"../input/day_12.txt\").read()"
   ]
  },
  {
   "cell_type": "code",
   "execution_count": 23,
   "metadata": {},
   "outputs": [],
   "source": [
    "test = \"\"\"\n",
    "???.### 1,1,3\n",
    ".??..??...?##. 1,1,3\n",
    "?#?#?#?#?#?#?#? 1,3,1,6\n",
    "????.#...#... 4,1,1\n",
    "????.######..#####. 1,6,5\n",
    "?###???????? 3,2,1\n",
    "\"\"\".strip()\n",
    "\n",
    "text = getInput()"
   ]
  },
  {
   "cell_type": "markdown",
   "metadata": {},
   "source": [
    "# Day 12 Part 1"
   ]
  },
  {
   "cell_type": "code",
   "execution_count": 61,
   "metadata": {},
   "outputs": [],
   "source": [
    "import re"
   ]
  },
  {
   "cell_type": "markdown",
   "metadata": {},
   "source": [
    "## Functions"
   ]
  },
  {
   "cell_type": "code",
   "execution_count": 75,
   "metadata": {},
   "outputs": [],
   "source": [
    "def is_valid_line(line:tuple[str, tuple[int]]) -> bool:\n",
    "    string, config = line\n",
    "    broken_seqs = re.findall(r\"#+\", string)\n",
    "    return (len(broken_seqs) == len(config)) and all([len(broken_seqs[i]) == config[i] for i in range(len(broken_seqs))])\n",
    "\n",
    "def brute_force_all_combos(line:str)->list[str]:\n",
    "    first_unknown = line.find(\"?\")\n",
    "    if first_unknown < 0:\n",
    "        return [line]\n",
    "    functional = line[:first_unknown] + \".\" + line[first_unknown+1:]\n",
    "    broken = line[:first_unknown] + \"#\" + line[first_unknown+1:]\n",
    "    return brute_force_all_combos(functional) + brute_force_all_combos(broken)\n",
    "    \n",
    "\n",
    "def find_combos(line:tuple[str,tuple[int], int]) -> list[str]:\n",
    "    return list(filter(lambda x: is_valid_line((x, line[1])), brute_force_all_combos(line[0])))\n"
   ]
  },
  {
   "cell_type": "markdown",
   "metadata": {},
   "source": [
    "## Execution"
   ]
  },
  {
   "cell_type": "code",
   "execution_count": 110,
   "metadata": {},
   "outputs": [
    {
     "name": "stdout",
     "output_type": "stream",
     "text": [
      "[####################] Brute forcing line: 999\n",
      "Result: 8022\n"
     ]
    }
   ],
   "source": [
    "puzzle_input = text\n",
    "\n",
    "lines = [(g0, tuple(map(int, g1.split(\",\")))) for g0,g1,*_ in\n",
    "         [m.groups() for m in re.finditer(r\"([\\?\\.\\#]+)\\s((\\d+\\,?)+)\", puzzle_input)]]\n",
    "res = 0\n",
    "for i in range(len(lines)):\n",
    "    p = int(20 * (i/(len(lines)-1)))\n",
    "    print(\"[\"+ \"#\"*p + \".\"*(20-p) +\"]\", \"Brute forcing line:\", i,end=\"\\r\")\n",
    "    res += len(find_combos(lines[i]))\n",
    "print(\"\\nResult:\", res)\n",
    "# sum(len(find_combos(line)) for line in lines)"
   ]
  },
  {
   "cell_type": "code",
   "execution_count": 111,
   "metadata": {},
   "outputs": [
    {
     "data": {
      "text/plain": [
       "8022"
      ]
     },
     "execution_count": 111,
     "metadata": {},
     "output_type": "execute_result"
    }
   ],
   "source": [
    "sum(len(find_combos(line)) for line in lines)"
   ]
  },
  {
   "cell_type": "markdown",
   "metadata": {},
   "source": [
    "# Day 12 Part 2\n",
    "\n",
    "Brute forcing this ain't gonna cut it"
   ]
  },
  {
   "cell_type": "code",
   "execution_count": 112,
   "metadata": {},
   "outputs": [],
   "source": [
    "import re"
   ]
  },
  {
   "cell_type": "markdown",
   "metadata": {},
   "source": [
    "## Functions"
   ]
  },
  {
   "cell_type": "code",
   "execution_count": 113,
   "metadata": {},
   "outputs": [],
   "source": [
    "def is_valid_line(line:tuple[str, tuple[int]]) -> bool:\n",
    "    string, config = line\n",
    "    broken_seqs = re.findall(r\"#+\", string)\n",
    "    return (len(broken_seqs) == len(config)) and all([len(broken_seqs[i]) == config[i] for i in range(len(broken_seqs))])\n",
    "\n",
    "def brute_force_all_combos(line:str)->list[str]:\n",
    "    first_unknown = line.find(\"?\")\n",
    "    if first_unknown < 0:\n",
    "        return [line]\n",
    "    functional = line[:first_unknown] + \".\" + line[first_unknown+1:]\n",
    "    broken = line[:first_unknown] + \"#\" + line[first_unknown+1:]\n",
    "    return brute_force_all_combos(functional) + brute_force_all_combos(broken)\n",
    "    \n",
    "\n",
    "def find_combos(line:tuple[str,tuple[int], int]) -> list[str]:\n",
    "    return list(filter(lambda x: is_valid_line((x, line[1])), brute_force_all_combos(line[0])))"
   ]
  },
  {
   "cell_type": "markdown",
   "metadata": {},
   "source": [
    "## Executions"
   ]
  },
  {
   "cell_type": "code",
   "execution_count": 114,
   "metadata": {},
   "outputs": [
    {
     "name": "stdout",
     "output_type": "stream",
     "text": [
      "[####................] Brute forcing line: 1\r"
     ]
    },
    {
     "ename": "KeyboardInterrupt",
     "evalue": "",
     "output_type": "error",
     "traceback": [
      "\u001b[0;31m---------------------------------------------------------------------------\u001b[0m",
      "\u001b[0;31mKeyboardInterrupt\u001b[0m                         Traceback (most recent call last)",
      "\u001b[1;32m/Users/pietro/Documents/GitHub/aoc-2023/python/day12.ipynb Cell 15\u001b[0m line \u001b[0;36m1\n\u001b[1;32m      <a href='vscode-notebook-cell:/Users/pietro/Documents/GitHub/aoc-2023/python/day12.ipynb#X21sZmlsZQ%3D%3D?line=8'>9</a>\u001b[0m     p \u001b[39m=\u001b[39m \u001b[39mint\u001b[39m(\u001b[39m20\u001b[39m \u001b[39m*\u001b[39m (i\u001b[39m/\u001b[39m(\u001b[39mlen\u001b[39m(lines)\u001b[39m-\u001b[39m\u001b[39m1\u001b[39m)))\n\u001b[1;32m     <a href='vscode-notebook-cell:/Users/pietro/Documents/GitHub/aoc-2023/python/day12.ipynb#X21sZmlsZQ%3D%3D?line=9'>10</a>\u001b[0m     \u001b[39mprint\u001b[39m(\u001b[39m\"\u001b[39m\u001b[39m[\u001b[39m\u001b[39m\"\u001b[39m\u001b[39m+\u001b[39m \u001b[39m\"\u001b[39m\u001b[39m#\u001b[39m\u001b[39m\"\u001b[39m\u001b[39m*\u001b[39mp \u001b[39m+\u001b[39m \u001b[39m\"\u001b[39m\u001b[39m.\u001b[39m\u001b[39m\"\u001b[39m\u001b[39m*\u001b[39m(\u001b[39m20\u001b[39m\u001b[39m-\u001b[39mp) \u001b[39m+\u001b[39m\u001b[39m\"\u001b[39m\u001b[39m]\u001b[39m\u001b[39m\"\u001b[39m, \u001b[39m\"\u001b[39m\u001b[39mBrute forcing line:\u001b[39m\u001b[39m\"\u001b[39m, i,end\u001b[39m=\u001b[39m\u001b[39m\"\u001b[39m\u001b[39m\\r\u001b[39;00m\u001b[39m\"\u001b[39m)\n\u001b[0;32m---> <a href='vscode-notebook-cell:/Users/pietro/Documents/GitHub/aoc-2023/python/day12.ipynb#X21sZmlsZQ%3D%3D?line=10'>11</a>\u001b[0m     res \u001b[39m+\u001b[39m\u001b[39m=\u001b[39m \u001b[39mlen\u001b[39m(find_combos(lines[i]))\n\u001b[1;32m     <a href='vscode-notebook-cell:/Users/pietro/Documents/GitHub/aoc-2023/python/day12.ipynb#X21sZmlsZQ%3D%3D?line=11'>12</a>\u001b[0m \u001b[39mprint\u001b[39m(\u001b[39m\"\u001b[39m\u001b[39m\\n\u001b[39;00m\u001b[39mResult:\u001b[39m\u001b[39m\"\u001b[39m, res)\n\u001b[1;32m     <a href='vscode-notebook-cell:/Users/pietro/Documents/GitHub/aoc-2023/python/day12.ipynb#X21sZmlsZQ%3D%3D?line=12'>13</a>\u001b[0m \u001b[39m# sum(len(find_combos(line)) for line in lines)\u001b[39;00m\n",
      "\u001b[1;32m/Users/pietro/Documents/GitHub/aoc-2023/python/day12.ipynb Cell 15\u001b[0m line \u001b[0;36m1\n\u001b[1;32m     <a href='vscode-notebook-cell:/Users/pietro/Documents/GitHub/aoc-2023/python/day12.ipynb#X21sZmlsZQ%3D%3D?line=14'>15</a>\u001b[0m \u001b[39mdef\u001b[39;00m \u001b[39mfind_combos\u001b[39m(line:\u001b[39mtuple\u001b[39m[\u001b[39mstr\u001b[39m,\u001b[39mtuple\u001b[39m[\u001b[39mint\u001b[39m], \u001b[39mint\u001b[39m]) \u001b[39m-\u001b[39m\u001b[39m>\u001b[39m \u001b[39mlist\u001b[39m[\u001b[39mstr\u001b[39m]:\n\u001b[0;32m---> <a href='vscode-notebook-cell:/Users/pietro/Documents/GitHub/aoc-2023/python/day12.ipynb#X21sZmlsZQ%3D%3D?line=15'>16</a>\u001b[0m     \u001b[39mreturn\u001b[39;00m \u001b[39mlist\u001b[39m(\u001b[39mfilter\u001b[39m(\u001b[39mlambda\u001b[39;00m x: is_valid_line((x, line[\u001b[39m1\u001b[39m])), brute_force_all_combos(line[\u001b[39m0\u001b[39;49m])))\n",
      "\u001b[1;32m/Users/pietro/Documents/GitHub/aoc-2023/python/day12.ipynb Cell 15\u001b[0m line \u001b[0;36m1\n\u001b[1;32m     <a href='vscode-notebook-cell:/Users/pietro/Documents/GitHub/aoc-2023/python/day12.ipynb#X21sZmlsZQ%3D%3D?line=9'>10</a>\u001b[0m functional \u001b[39m=\u001b[39m line[:first_unknown] \u001b[39m+\u001b[39m \u001b[39m\"\u001b[39m\u001b[39m.\u001b[39m\u001b[39m\"\u001b[39m \u001b[39m+\u001b[39m line[first_unknown\u001b[39m+\u001b[39m\u001b[39m1\u001b[39m:]\n\u001b[1;32m     <a href='vscode-notebook-cell:/Users/pietro/Documents/GitHub/aoc-2023/python/day12.ipynb#X21sZmlsZQ%3D%3D?line=10'>11</a>\u001b[0m broken \u001b[39m=\u001b[39m line[:first_unknown] \u001b[39m+\u001b[39m \u001b[39m\"\u001b[39m\u001b[39m#\u001b[39m\u001b[39m\"\u001b[39m \u001b[39m+\u001b[39m line[first_unknown\u001b[39m+\u001b[39m\u001b[39m1\u001b[39m:]\n\u001b[0;32m---> <a href='vscode-notebook-cell:/Users/pietro/Documents/GitHub/aoc-2023/python/day12.ipynb#X21sZmlsZQ%3D%3D?line=11'>12</a>\u001b[0m \u001b[39mreturn\u001b[39;00m brute_force_all_combos(functional) \u001b[39m+\u001b[39m brute_force_all_combos(broken)\n",
      "\u001b[1;32m/Users/pietro/Documents/GitHub/aoc-2023/python/day12.ipynb Cell 15\u001b[0m line \u001b[0;36m1\n\u001b[1;32m     <a href='vscode-notebook-cell:/Users/pietro/Documents/GitHub/aoc-2023/python/day12.ipynb#X21sZmlsZQ%3D%3D?line=9'>10</a>\u001b[0m functional \u001b[39m=\u001b[39m line[:first_unknown] \u001b[39m+\u001b[39m \u001b[39m\"\u001b[39m\u001b[39m.\u001b[39m\u001b[39m\"\u001b[39m \u001b[39m+\u001b[39m line[first_unknown\u001b[39m+\u001b[39m\u001b[39m1\u001b[39m:]\n\u001b[1;32m     <a href='vscode-notebook-cell:/Users/pietro/Documents/GitHub/aoc-2023/python/day12.ipynb#X21sZmlsZQ%3D%3D?line=10'>11</a>\u001b[0m broken \u001b[39m=\u001b[39m line[:first_unknown] \u001b[39m+\u001b[39m \u001b[39m\"\u001b[39m\u001b[39m#\u001b[39m\u001b[39m\"\u001b[39m \u001b[39m+\u001b[39m line[first_unknown\u001b[39m+\u001b[39m\u001b[39m1\u001b[39m:]\n\u001b[0;32m---> <a href='vscode-notebook-cell:/Users/pietro/Documents/GitHub/aoc-2023/python/day12.ipynb#X21sZmlsZQ%3D%3D?line=11'>12</a>\u001b[0m \u001b[39mreturn\u001b[39;00m brute_force_all_combos(functional) \u001b[39m+\u001b[39m brute_force_all_combos(broken)\n",
      "    \u001b[0;31m[... skipping similar frames: brute_force_all_combos at line 12 (4 times)]\u001b[0m\n",
      "\u001b[1;32m/Users/pietro/Documents/GitHub/aoc-2023/python/day12.ipynb Cell 15\u001b[0m line \u001b[0;36m1\n\u001b[1;32m     <a href='vscode-notebook-cell:/Users/pietro/Documents/GitHub/aoc-2023/python/day12.ipynb#X21sZmlsZQ%3D%3D?line=9'>10</a>\u001b[0m functional \u001b[39m=\u001b[39m line[:first_unknown] \u001b[39m+\u001b[39m \u001b[39m\"\u001b[39m\u001b[39m.\u001b[39m\u001b[39m\"\u001b[39m \u001b[39m+\u001b[39m line[first_unknown\u001b[39m+\u001b[39m\u001b[39m1\u001b[39m:]\n\u001b[1;32m     <a href='vscode-notebook-cell:/Users/pietro/Documents/GitHub/aoc-2023/python/day12.ipynb#X21sZmlsZQ%3D%3D?line=10'>11</a>\u001b[0m broken \u001b[39m=\u001b[39m line[:first_unknown] \u001b[39m+\u001b[39m \u001b[39m\"\u001b[39m\u001b[39m#\u001b[39m\u001b[39m\"\u001b[39m \u001b[39m+\u001b[39m line[first_unknown\u001b[39m+\u001b[39m\u001b[39m1\u001b[39m:]\n\u001b[0;32m---> <a href='vscode-notebook-cell:/Users/pietro/Documents/GitHub/aoc-2023/python/day12.ipynb#X21sZmlsZQ%3D%3D?line=11'>12</a>\u001b[0m \u001b[39mreturn\u001b[39;00m brute_force_all_combos(functional) \u001b[39m+\u001b[39m brute_force_all_combos(broken)\n",
      "\u001b[1;32m/Users/pietro/Documents/GitHub/aoc-2023/python/day12.ipynb Cell 15\u001b[0m line \u001b[0;36m6\n\u001b[1;32m      <a href='vscode-notebook-cell:/Users/pietro/Documents/GitHub/aoc-2023/python/day12.ipynb#X21sZmlsZQ%3D%3D?line=2'>3</a>\u001b[0m     broken_seqs \u001b[39m=\u001b[39m re\u001b[39m.\u001b[39mfindall(\u001b[39mr\u001b[39m\u001b[39m\"\u001b[39m\u001b[39m#+\u001b[39m\u001b[39m\"\u001b[39m, string)\n\u001b[1;32m      <a href='vscode-notebook-cell:/Users/pietro/Documents/GitHub/aoc-2023/python/day12.ipynb#X21sZmlsZQ%3D%3D?line=3'>4</a>\u001b[0m     \u001b[39mreturn\u001b[39;00m (\u001b[39mlen\u001b[39m(broken_seqs) \u001b[39m==\u001b[39m \u001b[39mlen\u001b[39m(config)) \u001b[39mand\u001b[39;00m \u001b[39mall\u001b[39m([\u001b[39mlen\u001b[39m(broken_seqs[i]) \u001b[39m==\u001b[39m config[i] \u001b[39mfor\u001b[39;00m i \u001b[39min\u001b[39;00m \u001b[39mrange\u001b[39m(\u001b[39mlen\u001b[39m(broken_seqs))])\n\u001b[0;32m----> <a href='vscode-notebook-cell:/Users/pietro/Documents/GitHub/aoc-2023/python/day12.ipynb#X21sZmlsZQ%3D%3D?line=5'>6</a>\u001b[0m \u001b[39mdef\u001b[39;00m \u001b[39mbrute_force_all_combos\u001b[39m(line:\u001b[39mstr\u001b[39m)\u001b[39m-\u001b[39m\u001b[39m>\u001b[39m\u001b[39mlist\u001b[39m[\u001b[39mstr\u001b[39m]:\n\u001b[1;32m      <a href='vscode-notebook-cell:/Users/pietro/Documents/GitHub/aoc-2023/python/day12.ipynb#X21sZmlsZQ%3D%3D?line=6'>7</a>\u001b[0m     first_unknown \u001b[39m=\u001b[39m line\u001b[39m.\u001b[39mfind(\u001b[39m\"\u001b[39m\u001b[39m?\u001b[39m\u001b[39m\"\u001b[39m)\n\u001b[1;32m      <a href='vscode-notebook-cell:/Users/pietro/Documents/GitHub/aoc-2023/python/day12.ipynb#X21sZmlsZQ%3D%3D?line=7'>8</a>\u001b[0m     \u001b[39mif\u001b[39;00m first_unknown \u001b[39m<\u001b[39m \u001b[39m0\u001b[39m:\n",
      "\u001b[0;31mKeyboardInterrupt\u001b[0m: "
     ]
    }
   ],
   "source": [
    "puzzle_input = test\n",
    "\n",
    "lines = [(g0, tuple(map(int, g1.split(\",\")))) for g0,g1,*_ in\n",
    "         [m.groups() for m in re.finditer(r\"([\\?\\.\\#]+)\\s((\\d+\\,?)+)\", puzzle_input)]]\n",
    "lines = [(\"?\".join([g0 for _ in range(5)]), g1*5) for g0, g1 in lines]\n",
    "\n",
    "res = 0\n",
    "for i in range(len(lines)):\n",
    "    p = int(20 * (i/(len(lines)-1)))\n",
    "    print(\"[\"+ \"#\"*p + \".\"*(20-p) +\"]\", \"Brute forcing line:\", i,end=\"\\r\")\n",
    "    res += len(find_combos(lines[i]))\n",
    "print(\"\\nResult:\", res)\n",
    "# sum(len(find_combos(line)) for line in lines)"
   ]
  }
 ],
 "metadata": {
  "kernelspec": {
   "display_name": "Python 3",
   "language": "python",
   "name": "python3"
  },
  "language_info": {
   "codemirror_mode": {
    "name": "ipython",
    "version": 3
   },
   "file_extension": ".py",
   "mimetype": "text/x-python",
   "name": "python",
   "nbconvert_exporter": "python",
   "pygments_lexer": "ipython3",
   "version": "3.11.3"
  }
 },
 "nbformat": 4,
 "nbformat_minor": 2
}
