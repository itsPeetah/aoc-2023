{
 "cells": [
  {
   "cell_type": "code",
   "execution_count": 1,
   "metadata": {},
   "outputs": [],
   "source": [
    "def getInput():\n",
    "    return open(\"../input/day_12.txt\").read()"
   ]
  },
  {
   "cell_type": "code",
   "execution_count": 23,
   "metadata": {},
   "outputs": [],
   "source": [
    "test = \"\"\"\n",
    "???.### 1,1,3\n",
    ".??..??...?##. 1,1,3\n",
    "?#?#?#?#?#?#?#? 1,3,1,6\n",
    "????.#...#... 4,1,1\n",
    "????.######..#####. 1,6,5\n",
    "?###???????? 3,2,1\n",
    "\"\"\".strip()\n",
    "\n",
    "text = getInput()"
   ]
  },
  {
   "cell_type": "markdown",
   "metadata": {},
   "source": [
    "# Day 12 Part 1"
   ]
  },
  {
   "cell_type": "code",
   "execution_count": 61,
   "metadata": {},
   "outputs": [],
   "source": [
    "import re"
   ]
  },
  {
   "cell_type": "markdown",
   "metadata": {},
   "source": [
    "## Functions"
   ]
  },
  {
   "cell_type": "code",
   "execution_count": 75,
   "metadata": {},
   "outputs": [],
   "source": [
    "def is_valid_line(line:tuple[str, tuple[int]]) -> bool:\n",
    "    string, config = line\n",
    "    broken_seqs = re.findall(r\"#+\", string)\n",
    "    return (len(broken_seqs) == len(config)) and all([len(broken_seqs[i]) == config[i] for i in range(len(broken_seqs))])\n",
    "\n",
    "def brute_force_all_combos(line:str)->list[str]:\n",
    "    first_unknown = line.find(\"?\")\n",
    "    if first_unknown < 0:\n",
    "        return [line]\n",
    "    functional = line[:first_unknown] + \".\" + line[first_unknown+1:]\n",
    "    broken = line[:first_unknown] + \"#\" + line[first_unknown+1:]\n",
    "    return brute_force_all_combos(functional) + brute_force_all_combos(broken)\n",
    "    \n",
    "\n",
    "def find_combos(line:tuple[str,tuple[int], int]) -> list[str]:\n",
    "    return list(filter(lambda x: is_valid_line((x, line[1])), brute_force_all_combos(line[0])))\n"
   ]
  },
  {
   "cell_type": "markdown",
   "metadata": {},
   "source": [
    "## Execution"
   ]
  },
  {
   "cell_type": "code",
   "execution_count": 110,
   "metadata": {},
   "outputs": [
    {
     "name": "stdout",
     "output_type": "stream",
     "text": [
      "[####################] Brute forcing line: 999\n",
      "Result: 8022\n"
     ]
    }
   ],
   "source": [
    "puzzle_input = text\n",
    "\n",
    "lines = [(g0, tuple(map(int, g1.split(\",\")))) for g0,g1,*_ in\n",
    "         [m.groups() for m in re.finditer(r\"([\\?\\.\\#]+)\\s((\\d+\\,?)+)\", puzzle_input)]]\n",
    "res = 0\n",
    "for i in range(len(lines)):\n",
    "    p = int(20 * (i/(len(lines)-1)))\n",
    "    print(\"[\"+ \"#\"*p + \".\"*(20-p) +\"]\", \"Brute forcing line:\", i,end=\"\\r\")\n",
    "    res += len(find_combos(lines[i]))\n",
    "print(\"\\nResult:\", res)\n",
    "# sum(len(find_combos(line)) for line in lines)"
   ]
  },
  {
   "cell_type": "code",
   "execution_count": 111,
   "metadata": {},
   "outputs": [
    {
     "data": {
      "text/plain": [
       "8022"
      ]
     },
     "execution_count": 111,
     "metadata": {},
     "output_type": "execute_result"
    }
   ],
   "source": [
    "sum(len(find_combos(line)) for line in lines)"
   ]
  },
  {
   "cell_type": "markdown",
   "metadata": {},
   "source": [
    "# Day 12 Part 2\n",
    "\n",
    "Brute forcing this ain't gonna cut it"
   ]
  },
  {
   "cell_type": "code",
   "execution_count": 112,
   "metadata": {},
   "outputs": [],
   "source": [
    "import re"
   ]
  },
  {
   "cell_type": "markdown",
   "metadata": {},
   "source": [
    "## Functions"
   ]
  },
  {
   "cell_type": "code",
   "execution_count": 113,
   "metadata": {},
   "outputs": [],
   "source": [
    "def is_valid_line(line:tuple[str, tuple[int]]) -> bool:\n",
    "    string, config = line\n",
    "    broken_seqs = re.findall(r\"#+\", string)\n",
    "    return (len(broken_seqs) == len(config)) and all([len(broken_seqs[i]) == config[i] for i in range(len(broken_seqs))])\n",
    "\n",
    "def brute_force_all_combos(line:str)->list[str]:\n",
    "    first_unknown = line.find(\"?\")\n",
    "    if first_unknown < 0:\n",
    "        return [line]\n",
    "    functional = line[:first_unknown] + \".\" + line[first_unknown+1:]\n",
    "    broken = line[:first_unknown] + \"#\" + line[first_unknown+1:]\n",
    "    return brute_force_all_combos(functional) + brute_force_all_combos(broken)\n",
    "    \n",
    "\n",
    "def find_combos(line:tuple[str,tuple[int], int]) -> list[str]:\n",
    "    return list(filter(lambda x: is_valid_line((x, line[1])), brute_force_all_combos(line[0])))"
   ]
  },
  {
   "cell_type": "markdown",
   "metadata": {},
   "source": [
    "## Executions"
   ]
  },
  {
   "cell_type": "code",
   "execution_count": 119,
   "metadata": {},
   "outputs": [
    {
     "data": {
      "text/plain": [
       "('???.###????.###????.###????.###????.###',\n",
       " (1, 1, 3, 1, 1, 3, 1, 1, 3, 1, 1, 3, 1, 1, 3))"
      ]
     },
     "execution_count": 119,
     "metadata": {},
     "output_type": "execute_result"
    }
   ],
   "source": [
    "puzzle_input = test\n",
    "\n",
    "lines = [(g0, tuple(map(int, g1.split(\",\")))) for g0,g1,*_ in\n",
    "         [m.groups() for m in re.finditer(r\"([\\?\\.\\#]+)\\s((\\d+\\,?)+)\", puzzle_input)]]\n",
    "lines = [(\"?\".join([g0 for _ in range(5)]), g1*5) for g0, g1 in lines]\n",
    "\n",
    "lines[0]"
   ]
  },
  {
   "cell_type": "code",
   "execution_count": null,
   "metadata": {},
   "outputs": [],
   "source": []
  }
 ],
 "metadata": {
  "kernelspec": {
   "display_name": "Python 3",
   "language": "python",
   "name": "python3"
  },
  "language_info": {
   "codemirror_mode": {
    "name": "ipython",
    "version": 3
   },
   "file_extension": ".py",
   "mimetype": "text/x-python",
   "name": "python",
   "nbconvert_exporter": "python",
   "pygments_lexer": "ipython3",
   "version": "3.11.3"
  }
 },
 "nbformat": 4,
 "nbformat_minor": 2
}
