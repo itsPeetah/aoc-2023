{
 "cells": [
  {
   "cell_type": "code",
   "execution_count": 1,
   "metadata": {},
   "outputs": [],
   "source": [
    "def getInput():\n",
    "    return open(\"../input/day_9.txt\").read()\n",
    "\n",
    "def getInputLines():\n",
    "    return getInput().split(\"\\n\")"
   ]
  },
  {
   "cell_type": "code",
   "execution_count": 34,
   "metadata": {},
   "outputs": [],
   "source": [
    "test = \"\"\"0 3 6 9 12 15\n",
    "1 3 6 10 15 21\n",
    "10 13 16 21 30 45\"\"\".strip()\n",
    "\n",
    "text = getInput()"
   ]
  },
  {
   "cell_type": "markdown",
   "metadata": {},
   "source": [
    "# Day 9 Part 1"
   ]
  },
  {
   "cell_type": "code",
   "execution_count": 36,
   "metadata": {},
   "outputs": [
    {
     "data": {
      "text/plain": [
       "1834108701"
      ]
     },
     "execution_count": 36,
     "metadata": {},
     "output_type": "execute_result"
    }
   ],
   "source": [
    "import re\n",
    "\n",
    "def process_sequence(sequence:list[int]):\n",
    "    if len(sequence) <= 1 or not any(sequence):\n",
    "        return 0\n",
    "    return sequence[-1] + process_sequence([sequence[i+1] - sequence[i] for i in range(len(sequence) - 1)])\n",
    "\n",
    "puzzle_input = text\n",
    "lines = [list(map(int, re.findall(r\"([-\\d]+)\", line))) for line in puzzle_input.split(\"\\n\")]\n",
    "sum([process_sequence(sequence) for sequence in lines])\n",
    "\n",
    "\n"
   ]
  },
  {
   "cell_type": "markdown",
   "metadata": {},
   "source": [
    "# Day 9 Part 2"
   ]
  },
  {
   "cell_type": "code",
   "execution_count": 38,
   "metadata": {},
   "outputs": [
    {
     "data": {
      "text/plain": [
       "993"
      ]
     },
     "execution_count": 38,
     "metadata": {},
     "output_type": "execute_result"
    }
   ],
   "source": [
    "import re\n",
    "\n",
    "def process_sequence(sequence:list[int]):\n",
    "    if len(sequence) <= 1 or not any(sequence):\n",
    "        return 0\n",
    "    return sequence[0] - process_sequence([sequence[i+1] - sequence[i] for i in range(len(sequence) - 1)])\n",
    "\n",
    "puzzle_input = text\n",
    "lines = [list(map(int, re.findall(r\"([-\\d]+)\", line))) for line in puzzle_input.split(\"\\n\")]\n",
    "sum([process_sequence(sequence) for sequence in lines])\n",
    "\n",
    "\n"
   ]
  },
  {
   "cell_type": "code",
   "execution_count": null,
   "metadata": {},
   "outputs": [],
   "source": []
  }
 ],
 "metadata": {
  "kernelspec": {
   "display_name": "Python 3",
   "language": "python",
   "name": "python3"
  },
  "language_info": {
   "codemirror_mode": {
    "name": "ipython",
    "version": 3
   },
   "file_extension": ".py",
   "mimetype": "text/x-python",
   "name": "python",
   "nbconvert_exporter": "python",
   "pygments_lexer": "ipython3",
   "version": "3.11.3"
  }
 },
 "nbformat": 4,
 "nbformat_minor": 2
}
