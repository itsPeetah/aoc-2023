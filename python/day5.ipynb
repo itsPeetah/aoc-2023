{
 "cells": [
  {
   "cell_type": "markdown",
   "metadata": {},
   "source": [
    "# Day 5 Part 1\n",
    "\n",
    "parsing: /`(^\\n?[a-zA-Z\\-\\:\\s]+)((\\d+[.\\s]?)+)`/gms"
   ]
  },
  {
   "cell_type": "markdown",
   "metadata": {},
   "source": []
  }
 ],
 "metadata": {
  "language_info": {
   "name": "python"
  }
 },
 "nbformat": 4,
 "nbformat_minor": 2
}
