{
 "cells": [
  {
   "cell_type": "code",
   "execution_count": 2,
   "metadata": {},
   "outputs": [],
   "source": [
    "def getInput():\n",
    "    return open(\"../input/day_5.txt\").read()\n",
    "\n",
    "def getInputLines():\n",
    "    return getInput().split(\"\\n\")"
   ]
  },
  {
   "cell_type": "markdown",
   "metadata": {},
   "source": [
    "# Day 5 Part 1\n",
    "\n",
    "parsing: /`(^\\n?[a-zA-Z\\-\\:\\s]+)((\\d+[.\\s]?)+)`/gms"
   ]
  },
  {
   "cell_type": "code",
   "execution_count": 3,
   "metadata": {},
   "outputs": [
    {
     "data": {
      "text/plain": [
       "331445006"
      ]
     },
     "execution_count": 3,
     "metadata": {},
     "output_type": "execute_result"
    }
   ],
   "source": [
    "import re\n",
    "\n",
    "text = getInput()\n",
    "\n",
    "# text = \"\"\"\n",
    "# seeds: 79 14 55 13\n",
    "\n",
    "# seed-to-soil map:\n",
    "# 50 98 2\n",
    "# 52 50 48\n",
    "\n",
    "# soil-to-fertilizer map:\n",
    "# 0 15 37\n",
    "# 37 52 2\n",
    "# 39 0 15\n",
    "\n",
    "# fertilizer-to-water map:\n",
    "# 49 53 8\n",
    "# 0 11 42\n",
    "# 42 0 7\n",
    "# 57 7 4\n",
    "\n",
    "# water-to-light map:\n",
    "# 88 18 7\n",
    "# 18 25 70\n",
    "\n",
    "# light-to-temperature map:\n",
    "# 45 77 23\n",
    "# 81 45 19\n",
    "# 68 64 13\n",
    "\n",
    "# temperature-to-humidity map:\n",
    "# 0 69 1\n",
    "# 1 0 69\n",
    "\n",
    "# humidity-to-location map:\n",
    "# 60 56 37\n",
    "# 56 93 4\n",
    "# \"\"\".strip()\n",
    "\n",
    "# match all numbers, first match is seed line, subsequent matches are the maps\n",
    "seeds, *maps = [\n",
    "    [int(v) for v in re.findall(r\"\\d+\", match.groups()[1], flags=re.MULTILINE)]\n",
    "    for match in re.finditer(r\"(^\\n?[a-zA-Z\\-\\:\\s]+)((\\d+[.\\s]?)+)\", text, flags=re.MULTILINE)\n",
    "    ]\n",
    "# sort ranges in maps based on their start number\n",
    "maps = [sorted(r, key=lambda x: x[1]) for r in\n",
    "    [[m[i:i+3] for i in range(0, len(m), 3)] for m in maps]]\n",
    "\n",
    "# main\n",
    "locs = []\n",
    "for seed in seeds:\n",
    "    temp = seed\n",
    "    for map in maps:\n",
    "        for (dst, src, span) in map:\n",
    "            if src <= temp < src + span:\n",
    "                temp = dst + (temp - src)\n",
    "                break\n",
    "    locs.append(temp)\n",
    "min(locs)\n",
    "# 331445006\n"
   ]
  },
  {
   "cell_type": "markdown",
   "metadata": {},
   "source": [
    "# Day 5 Part 2\n",
    "\n",
    "# 24092691 too high\n",
    "# 20522066 too high\n",
    "# 19624706 too high"
   ]
  },
  {
   "cell_type": "code",
   "execution_count": 150,
   "metadata": {},
   "outputs": [
    {
     "ename": "KeyboardInterrupt",
     "evalue": "",
     "output_type": "error",
     "traceback": [
      "\u001b[0;31m---------------------------------------------------------------------------\u001b[0m",
      "\u001b[0;31mKeyboardInterrupt\u001b[0m                         Traceback (most recent call last)",
      "\u001b[1;32m/Users/pietro/Documents/GitHub/aoc-2023/python/day5.ipynb Cell 5\u001b[0m line \u001b[0;36m1\n\u001b[1;32m     <a href='vscode-notebook-cell:/Users/pietro/Documents/GitHub/aoc-2023/python/day5.ipynb#X32sZmlsZQ%3D%3D?line=98'>99</a>\u001b[0m     \u001b[39mfor\u001b[39;00m sr \u001b[39min\u001b[39;00m ranges_to_process:\n\u001b[1;32m    <a href='vscode-notebook-cell:/Users/pietro/Documents/GitHub/aoc-2023/python/day5.ipynb#X32sZmlsZQ%3D%3D?line=99'>100</a>\u001b[0m         [shifted, passed] \u001b[39m=\u001b[39m extract_range(sr, mr)\n\u001b[0;32m--> <a href='vscode-notebook-cell:/Users/pietro/Documents/GitHub/aoc-2023/python/day5.ipynb#X32sZmlsZQ%3D%3D?line=100'>101</a>\u001b[0m         processed_ranges\u001b[39m.\u001b[39mextend(shifted)\n\u001b[1;32m    <a href='vscode-notebook-cell:/Users/pietro/Documents/GitHub/aoc-2023/python/day5.ipynb#X32sZmlsZQ%3D%3D?line=101'>102</a>\u001b[0m         ranges_to_process\u001b[39m.\u001b[39mextend(passed)\n\u001b[1;32m    <a href='vscode-notebook-cell:/Users/pietro/Documents/GitHub/aoc-2023/python/day5.ipynb#X32sZmlsZQ%3D%3D?line=102'>103</a>\u001b[0m seed_ranges \u001b[39m=\u001b[39m ranges_to_process[\u001b[39mlen\u001b[39m(processed_ranges):] \u001b[39m+\u001b[39m processed_ranges\n",
      "\u001b[0;31mKeyboardInterrupt\u001b[0m: "
     ]
    }
   ],
   "source": [
    "import re\n",
    "\n",
    "text = \"\"\"\n",
    "seeds: 79 14 55 13\n",
    "\n",
    "seed-to-soil map:\n",
    "50 98 2\n",
    "52 50 48\n",
    "\n",
    "soil-to-fertilizer map:\n",
    "0 15 37\n",
    "37 52 2\n",
    "39 0 15\n",
    "\n",
    "fertilizer-to-water map:\n",
    "49 53 8\n",
    "0 11 42\n",
    "42 0 7\n",
    "57 7 4\n",
    "\n",
    "water-to-light map:\n",
    "88 18 7\n",
    "18 25 70\n",
    "\n",
    "light-to-temperature map:\n",
    "45 77 23\n",
    "81 45 19\n",
    "68 64 13\n",
    "\n",
    "temperature-to-humidity map:\n",
    "0 69 1\n",
    "1 0 69\n",
    "\n",
    "humidity-to-location map:\n",
    "60 56 37\n",
    "56 93 4\n",
    "\"\"\".strip()\n",
    "\n",
    "# text = getInput()\n",
    "\n",
    "seeds, *maps = [[int(v) for v in re.findall(r\"\\d+\", match.groups()[1], flags=re.MULTILINE)] for match in re.finditer(r\"(^\\n?[a-zA-Z\\-\\:\\s]+)((\\d+[.\\s]?)+)\", text, flags=re.MULTILINE)]\n",
    "seeds = [seeds[i:i+2] for i in range(0, len(seeds), 2)]\n",
    "maps = [sorted(r, key=lambda x: x[1]) for r in [[m[i:i+3] for i in range(0, len(m), 3)] for m in maps]]\n",
    "\n",
    "# I'm gonna have to write real code for this one...\n",
    "\n",
    "def extract_range(seed_range, map_range):\n",
    "    processed, passed_through = [], []\n",
    "    \n",
    "    seed_start, seed_length = seed_range\n",
    "    seed_end = seed_start + seed_length - 1\n",
    "    map_dst, map_start, map_length = map_range\n",
    "    map_end = map_start + map_length - 1\n",
    "\n",
    "    # no intersection\n",
    "    if (seed_start > map_end) or (map_start > seed_end):\n",
    "        passed_through.append([seed_start, seed_length])\n",
    "    else:\n",
    "        \"\"\"\n",
    "        #: map, *: seed\n",
    "\n",
    "        case 0\n",
    "        ##############\n",
    "            *****\n",
    "            ^^^^^\n",
    "        case 1\n",
    "            #####    \n",
    "        **************\n",
    "            ^^^^^\n",
    "        case 2\n",
    "        #########\n",
    "            **********\n",
    "            ^^^^^\n",
    "        case 3\n",
    "            ##########\n",
    "        *********\n",
    "            ^^^^^\n",
    "        \"\"\"\n",
    "\n",
    "        overlap_start = max(map_start, seed_start)\n",
    "        overlap_end = min(map_end, seed_end)\n",
    "        map_shift = map_dst - map_start\n",
    "        processed.append([overlap_start + map_shift, overlap_end - overlap_start + 1])\n",
    "\n",
    "        if overlap_start > seed_start:\n",
    "            passed_through.append([seed_start, overlap_start - seed_start])\n",
    "        if overlap_end < seed_end:\n",
    "            passed_through.append([overlap_end + 1, seed_end - overlap_end])\n",
    "\n",
    "    return [processed, passed_through]\n",
    "\n",
    "\n",
    "\n",
    "seed_ranges = [[s,l] for s,l in seeds]\n",
    "for map_ranges in maps:\n",
    "    for sr in seed_ranges:\n",
    "\n",
    "        for mr in map_ranges:\n",
    "\n",
    "\n",
    "        \n",
    "print(min(seed_ranges, key=lambda x:x[0])[0])\n",
    "\n",
    "        \n"
   ]
  },
  {
   "cell_type": "code",
   "execution_count": 139,
   "metadata": {},
   "outputs": [
    {
     "data": {
      "text/plain": [
       "([[10, 10]],\n",
       " [[100, 8], [10, 2], [19, 1]],\n",
       " [[110, 10]],\n",
       " [[105, 5], [15, 5]],\n",
       " [[100, 5], [10, 6]])"
      ]
     },
     "execution_count": 139,
     "metadata": {},
     "output_type": "execute_result"
    }
   ],
   "source": [
    "(extract_range((10,10),(100,20,10)), # no overlap\n",
    "extract_range((10,10),(100,11,8)), # internal overlap\n",
    "extract_range((10,10),(100,0,20)), # external overlap\n",
    "extract_range((10,10),(100,5,10)), # left overlap\n",
    "extract_range((10,10),(100,15,10)),) # right overlap"
   ]
  },
  {
   "cell_type": "code",
   "execution_count": null,
   "metadata": {},
   "outputs": [],
   "source": []
  }
 ],
 "metadata": {
  "kernelspec": {
   "display_name": "Python 3",
   "language": "python",
   "name": "python3"
  },
  "language_info": {
   "codemirror_mode": {
    "name": "ipython",
    "version": 3
   },
   "file_extension": ".py",
   "mimetype": "text/x-python",
   "name": "python",
   "nbconvert_exporter": "python",
   "pygments_lexer": "ipython3",
   "version": "3.11.3"
  }
 },
 "nbformat": 4,
 "nbformat_minor": 2
}
