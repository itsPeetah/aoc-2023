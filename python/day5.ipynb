{
 "cells": [
  {
   "cell_type": "code",
   "execution_count": 4,
   "metadata": {},
   "outputs": [],
   "source": [
    "def getInput():\n",
    "    return open(\"../input/day_5.txt\").read()\n",
    "\n",
    "def getInputLines():\n",
    "    return getInput().split(\"\\n\")"
   ]
  },
  {
   "cell_type": "markdown",
   "metadata": {},
   "source": [
    "# Day 5 Part 1\n",
    "\n",
    "parsing: /`(^\\n?[a-zA-Z\\-\\:\\s]+)((\\d+[.\\s]?)+)`/gms"
   ]
  },
  {
   "cell_type": "code",
   "execution_count": 3,
   "metadata": {},
   "outputs": [
    {
     "data": {
      "text/plain": [
       "331445006"
      ]
     },
     "execution_count": 3,
     "metadata": {},
     "output_type": "execute_result"
    }
   ],
   "source": [
    "import re\n",
    "\n",
    "text = getInput()\n",
    "\n",
    "# text = \"\"\"\n",
    "# seeds: 79 14 55 13\n",
    "\n",
    "# seed-to-soil map:\n",
    "# 50 98 2\n",
    "# 52 50 48\n",
    "\n",
    "# soil-to-fertilizer map:\n",
    "# 0 15 37\n",
    "# 37 52 2\n",
    "# 39 0 15\n",
    "\n",
    "# fertilizer-to-water map:\n",
    "# 49 53 8\n",
    "# 0 11 42\n",
    "# 42 0 7\n",
    "# 57 7 4\n",
    "\n",
    "# water-to-light map:\n",
    "# 88 18 7\n",
    "# 18 25 70\n",
    "\n",
    "# light-to-temperature map:\n",
    "# 45 77 23\n",
    "# 81 45 19\n",
    "# 68 64 13\n",
    "\n",
    "# temperature-to-humidity map:\n",
    "# 0 69 1\n",
    "# 1 0 69\n",
    "\n",
    "# humidity-to-location map:\n",
    "# 60 56 37\n",
    "# 56 93 4\n",
    "# \"\"\".strip()\n",
    "\n",
    "# match all numbers, first match is seed line, subsequent matches are the maps\n",
    "seeds, *maps = [\n",
    "    [int(v) for v in re.findall(r\"\\d+\", match.groups()[1], flags=re.MULTILINE)]\n",
    "    for match in re.finditer(r\"(^\\n?[a-zA-Z\\-\\:\\s]+)((\\d+[.\\s]?)+)\", text, flags=re.MULTILINE)\n",
    "    ]\n",
    "# sort ranges in maps based on their start number\n",
    "maps = [sorted(r, key=lambda x: x[1]) for r in\n",
    "    [[m[i:i+3] for i in range(0, len(m), 3)] for m in maps]]\n",
    "\n",
    "# main\n",
    "locs = []\n",
    "for seed in seeds:\n",
    "    temp = seed\n",
    "    for map in maps:\n",
    "        for (dst, src, span) in map:\n",
    "            if src <= temp < src + span:\n",
    "                temp = dst + (temp - src)\n",
    "                break\n",
    "    locs.append(temp)\n",
    "min(locs)\n",
    "# 331445006\n"
   ]
  },
  {
   "cell_type": "markdown",
   "metadata": {},
   "source": [
    "# Day 5 Part 2\n",
    "\n",
    "- 24092691 too high\n",
    "- 20522066 too high\n",
    "- 19624706 too high"
   ]
  },
  {
   "cell_type": "code",
   "execution_count": 5,
   "metadata": {},
   "outputs": [
    {
     "name": "stdout",
     "output_type": "stream",
     "text": [
      "6472060\n"
     ]
    }
   ],
   "source": [
    "import re\n",
    "import threading\n",
    "\n",
    "text = \"\"\"\n",
    "seeds: 79 14 55 13\n",
    "\n",
    "seed-to-soil map:\n",
    "50 98 2\n",
    "52 50 48\n",
    "\n",
    "soil-to-fertilizer map:\n",
    "0 15 37\n",
    "37 52 2\n",
    "39 0 15\n",
    "\n",
    "fertilizer-to-water map:\n",
    "49 53 8\n",
    "0 11 42\n",
    "42 0 7\n",
    "57 7 4\n",
    "\n",
    "water-to-light map:\n",
    "88 18 7\n",
    "18 25 70\n",
    "\n",
    "light-to-temperature map:\n",
    "45 77 23\n",
    "81 45 19\n",
    "68 64 13\n",
    "\n",
    "temperature-to-humidity map:\n",
    "0 69 1\n",
    "1 0 69\n",
    "\n",
    "humidity-to-location map:\n",
    "60 56 37\n",
    "56 93 4\n",
    "\"\"\".strip()\n",
    "\n",
    "text = getInput()\n",
    "\n",
    "seeds, *maps = [[int(v) for v in re.findall(r\"\\d+\", match.groups()[1], flags=re.MULTILINE)] for match in re.finditer(r\"(^\\n?[a-zA-Z\\-\\:\\s]+)((\\d+[.\\s]?)+)\", text, flags=re.MULTILINE)]\n",
    "seeds = [seeds[i:i+2] for i in range(0, len(seeds), 2)]\n",
    "maps = [sorted(r, key=lambda x: x[1]) for r in [[m[i:i+3] for i in range(0, len(m), 3)] for m in maps]]\n",
    "\n",
    "results = [-1 for _ in range(len(seeds))]\n",
    "threads = [None for _ in range(len(seeds))]\n",
    "\n",
    "def process_seed_range(seed_range:list[int], results:list[int], index:int):\n",
    "    seeds_in_range = [s for s in range(seed_range[0], seed_range[0]+seed_range[1])]\n",
    "    locs = []\n",
    "    for seed in seeds_in_range:\n",
    "        temp = seed\n",
    "        for map in maps:\n",
    "            for (dst, src, span) in map:\n",
    "                if src <= temp < src + span:\n",
    "                    temp = dst + (temp - src)\n",
    "                    break\n",
    "        locs.append(temp)\n",
    "    results[index] = min(locs)\n",
    "\n",
    "for i in range(len(threads)):\n",
    "    threads[i] = threading.Thread(target=process_seed_range, args=(seeds[i], results, i))\n",
    "    threads[i].start()\n",
    "\n",
    "for i in range(len(threads)):\n",
    "    threads[i].join()\n",
    "\n",
    "print(min(results))"
   ]
  },
  {
   "cell_type": "code",
   "execution_count": null,
   "metadata": {},
   "outputs": [],
   "source": []
  }
 ],
 "metadata": {
  "kernelspec": {
   "display_name": "Python 3",
   "language": "python",
   "name": "python3"
  },
  "language_info": {
   "codemirror_mode": {
    "name": "ipython",
    "version": 3
   },
   "file_extension": ".py",
   "mimetype": "text/x-python",
   "name": "python",
   "nbconvert_exporter": "python",
   "pygments_lexer": "ipython3",
   "version": "3.11.4"
  }
 },
 "nbformat": 4,
 "nbformat_minor": 2
}
