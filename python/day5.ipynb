{
 "cells": [
  {
   "cell_type": "code",
   "execution_count": 28,
   "metadata": {},
   "outputs": [],
   "source": [
    "def getInput():\n",
    "    return open(\"../input/day_5.txt\").read()\n",
    "\n",
    "def getInputLines():\n",
    "    return getInput().split(\"\\n\")"
   ]
  },
  {
   "cell_type": "markdown",
   "metadata": {},
   "source": [
    "# Day 5 Part 1\n",
    "\n",
    "parsing: /`(^\\n?[a-zA-Z\\-\\:\\s]+)((\\d+[.\\s]?)+)`/gms"
   ]
  },
  {
   "cell_type": "code",
   "execution_count": 31,
   "metadata": {},
   "outputs": [],
   "source": [
    "import re\n",
    "\n",
    "text = getInput()\n",
    "\n",
    "text = \"\"\"\n",
    "seeds: 79 14 55 13\n",
    "\n",
    "seed-to-soil map:\n",
    "50 98 2\n",
    "52 50 48\n",
    "\n",
    "soil-to-fertilizer map:\n",
    "0 15 37\n",
    "37 52 2\n",
    "39 0 15\n",
    "\n",
    "fertilizer-to-water map:\n",
    "49 53 8\n",
    "0 11 42\n",
    "42 0 7\n",
    "57 7 4\n",
    "\n",
    "water-to-light map:\n",
    "88 18 7\n",
    "18 25 70\n",
    "\n",
    "light-to-temperature map:\n",
    "45 77 23\n",
    "81 45 19\n",
    "68 64 13\n",
    "\n",
    "temperature-to-humidity map:\n",
    "0 69 1\n",
    "1 0 69\n",
    "\n",
    "humidity-to-location map:\n",
    "60 56 37\n",
    "56 93 4\n",
    "\"\"\".strip()\n",
    "\n",
    "matches = [\n",
    "    [int(v) for v in re.findall(r\"\\d+\", match.groups()[1], flags=re.MULTILINE)]\n",
    "    for match in re.finditer(r\"(^\\n?[a-zA-Z\\-\\:\\s]+)((\\d+[.\\s]?)+)\", text, flags=re.MULTILINE)\n",
    "    ]\n"
   ]
  },
  {
   "cell_type": "code",
   "execution_count": 32,
   "metadata": {},
   "outputs": [
    {
     "data": {
      "text/plain": [
       "[[79, 14, 55, 13],\n",
       " [50, 98, 2, 52, 50, 48],\n",
       " [0, 15, 37, 37, 52, 2, 39, 0, 15],\n",
       " [49, 53, 8, 0, 11, 42, 42, 0, 7, 57, 7, 4],\n",
       " [88, 18, 7, 18, 25, 70],\n",
       " [45, 77, 23, 81, 45, 19, 68, 64, 13],\n",
       " [0, 69, 1, 1, 0, 69],\n",
       " [60, 56, 37, 56, 93, 4]]"
      ]
     },
     "execution_count": 32,
     "metadata": {},
     "output_type": "execute_result"
    }
   ],
   "source": [
    "matches"
   ]
  },
  {
   "cell_type": "code",
   "execution_count": null,
   "metadata": {},
   "outputs": [],
   "source": []
  }
 ],
 "metadata": {
  "kernelspec": {
   "display_name": "Python 3",
   "language": "python",
   "name": "python3"
  },
  "language_info": {
   "codemirror_mode": {
    "name": "ipython",
    "version": 3
   },
   "file_extension": ".py",
   "mimetype": "text/x-python",
   "name": "python",
   "nbconvert_exporter": "python",
   "pygments_lexer": "ipython3",
   "version": "3.11.4"
  }
 },
 "nbformat": 4,
 "nbformat_minor": 2
}
