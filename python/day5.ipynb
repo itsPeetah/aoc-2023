{
 "cells": [
  {
   "cell_type": "code",
   "execution_count": 2,
   "metadata": {},
   "outputs": [],
   "source": [
    "def getInput():\n",
    "    return open(\"../input/day_5.txt\").read()\n",
    "\n",
    "def getInputLines():\n",
    "    return getInput().split(\"\\n\")"
   ]
  },
  {
   "cell_type": "markdown",
   "metadata": {},
   "source": [
    "# Day 5 Part 1\n",
    "\n",
    "parsing: /`(^\\n?[a-zA-Z\\-\\:\\s]+)((\\d+[.\\s]?)+)`/gms"
   ]
  },
  {
   "cell_type": "code",
   "execution_count": 3,
   "metadata": {},
   "outputs": [
    {
     "data": {
      "text/plain": [
       "331445006"
      ]
     },
     "execution_count": 3,
     "metadata": {},
     "output_type": "execute_result"
    }
   ],
   "source": [
    "import re\n",
    "\n",
    "text = getInput()\n",
    "\n",
    "# text = \"\"\"\n",
    "# seeds: 79 14 55 13\n",
    "\n",
    "# seed-to-soil map:\n",
    "# 50 98 2\n",
    "# 52 50 48\n",
    "\n",
    "# soil-to-fertilizer map:\n",
    "# 0 15 37\n",
    "# 37 52 2\n",
    "# 39 0 15\n",
    "\n",
    "# fertilizer-to-water map:\n",
    "# 49 53 8\n",
    "# 0 11 42\n",
    "# 42 0 7\n",
    "# 57 7 4\n",
    "\n",
    "# water-to-light map:\n",
    "# 88 18 7\n",
    "# 18 25 70\n",
    "\n",
    "# light-to-temperature map:\n",
    "# 45 77 23\n",
    "# 81 45 19\n",
    "# 68 64 13\n",
    "\n",
    "# temperature-to-humidity map:\n",
    "# 0 69 1\n",
    "# 1 0 69\n",
    "\n",
    "# humidity-to-location map:\n",
    "# 60 56 37\n",
    "# 56 93 4\n",
    "# \"\"\".strip()\n",
    "\n",
    "# match all numbers, first match is seed line, subsequent matches are the maps\n",
    "seeds, *maps = [\n",
    "    [int(v) for v in re.findall(r\"\\d+\", match.groups()[1], flags=re.MULTILINE)]\n",
    "    for match in re.finditer(r\"(^\\n?[a-zA-Z\\-\\:\\s]+)((\\d+[.\\s]?)+)\", text, flags=re.MULTILINE)\n",
    "    ]\n",
    "# sort ranges in maps based on their start number\n",
    "maps = [sorted(r, key=lambda x: x[1]) for r in\n",
    "    [[m[i:i+3] for i in range(0, len(m), 3)] for m in maps]]\n",
    "\n",
    "# main\n",
    "locs = []\n",
    "for seed in seeds:\n",
    "    temp = seed\n",
    "    for map in maps:\n",
    "        for (dst, src, span) in map:\n",
    "            if src <= temp < src + span:\n",
    "                temp = dst + (temp - src)\n",
    "                break\n",
    "    locs.append(temp)\n",
    "min(locs)\n",
    "# 331445006\n"
   ]
  },
  {
   "cell_type": "markdown",
   "metadata": {},
   "source": [
    "# Day 5 Part 2"
   ]
  },
  {
   "cell_type": "code",
   "execution_count": 40,
   "metadata": {},
   "outputs": [
    {
     "name": "stdout",
     "output_type": "stream",
     "text": [
      "46\n"
     ]
    }
   ],
   "source": [
    "import re\n",
    "\n",
    "text = \"\"\"\n",
    "seeds: 79 14 55 13\n",
    "\n",
    "seed-to-soil map:\n",
    "50 98 2\n",
    "52 50 48\n",
    "\n",
    "soil-to-fertilizer map:\n",
    "0 15 37\n",
    "37 52 2\n",
    "39 0 15\n",
    "\n",
    "fertilizer-to-water map:\n",
    "49 53 8\n",
    "0 11 42\n",
    "42 0 7\n",
    "57 7 4\n",
    "\n",
    "water-to-light map:\n",
    "88 18 7\n",
    "18 25 70\n",
    "\n",
    "light-to-temperature map:\n",
    "45 77 23\n",
    "81 45 19\n",
    "68 64 13\n",
    "\n",
    "temperature-to-humidity map:\n",
    "0 69 1\n",
    "1 0 69\n",
    "\n",
    "humidity-to-location map:\n",
    "60 56 37\n",
    "56 93 4\n",
    "\"\"\".strip()\n",
    "\n",
    "# text = getInput()\n",
    "\n",
    "seeds, *maps = [[int(v) for v in re.findall(r\"\\d+\", match.groups()[1], flags=re.MULTILINE)] for match in re.finditer(r\"(^\\n?[a-zA-Z\\-\\:\\s]+)((\\d+[.\\s]?)+)\", text, flags=re.MULTILINE)]\n",
    "seeds = [seeds[i:i+2] for i in range(0, len(seeds), 2)]\n",
    "maps = [sorted(r, key=lambda x: x[1]) for r in [[m[i:i+3] for i in range(0, len(m), 3)] for m in maps]]\n",
    "\n",
    "# I'm gonna have to write real code for this one...\n",
    "\n",
    "def extract_range(seed_range, map_range):\n",
    "    ranges = []\n",
    "    \n",
    "    seed_start, seed_length = seed_range\n",
    "    seed_end = seed_start + seed_length - 1\n",
    "    map_dst, map_start, map_length = map_range\n",
    "    map_end = map_start + map_length - 1\n",
    "\n",
    "    # no intersection\n",
    "    if (seed_start > map_end) or (map_start > seed_end):\n",
    "        ranges.append([seed_start, seed_length])\n",
    "    else:\n",
    "        split_start = max(map_start, seed_start)\n",
    "        split_end = min(map_end, seed_end)\n",
    "        split_length = split_end - split_start\n",
    "        ds = split_start - seed_start\n",
    "        de = split_end - seed_end\n",
    "        \n",
    "        # map range starts within the seed range\n",
    "        if ds > 0:\n",
    "            ranges.append([seed_start, ds + 1])\n",
    "        # map range ends within the seed range\n",
    "        if de < 0:\n",
    "            ranges.append([split_end + 1, -de])\n",
    "\n",
    "        seed_dst = split_start + (map_dst - map_start)\n",
    "\n",
    "        ranges.append([seed_dst, split_length + 1])\n",
    "    return ranges\n",
    "\n",
    "\n",
    "\n",
    "seed_ranges = [[s,l] for s,l in seeds]\n",
    "for m in maps:\n",
    "    # print(\"New map, input:\", seed_ranges)\n",
    "    for mr in m:\n",
    "        ranges = []\n",
    "        for sr in seed_ranges:\n",
    "            olds, oldl = sr\n",
    "            # print(\"Testing seed range:\", sr)\n",
    "            new_ranges = extract_range(sr, mr)\n",
    "            # print(\"Result:\", new_ranges)\n",
    "            ranges.extend(new_ranges)\n",
    "        seed_ranges = ranges\n",
    "        \n",
    "print(min(seed_ranges, key=lambda x:x[0])[0])\n",
    "\n",
    "        \n",
    "# 24092691 too high\n",
    "# 20522066 too high\n",
    "# 19624706"
   ]
  },
  {
   "cell_type": "markdown",
   "metadata": {},
   "source": [
    "# Debugging: 1\n",
    "running `extract_range((6, 20), (0, 10, 5))`\n",
    "i get `[[6, 5], [15, 11], [0, 5]]`\n",
    "\n",
    "while it should be\n",
    "- 6, 7, 8, 9, 10, 11, 12, 13, 14, 15, 16, 17, 18, 19, 20, 21, 22, 23, 24, 25\n",
    "- 10, 11, 12, 13, 14 -> 0, 1, 2, 3, 4\n",
    "- 6, 7, 8, 9 + 0, 1, 2, 3, 4 + 15, 16, 17, 18, 19, 20, 21, 22, 23, 24, 25\n",
    "- [6, 4] + [0, 5] + [15, 11]"
   ]
  },
  {
   "cell_type": "code",
   "execution_count": 23,
   "metadata": {},
   "outputs": [
    {
     "data": {
      "text/plain": [
       "[[61, 9], [53, 4]]"
      ]
     },
     "execution_count": 23,
     "metadata": {},
     "output_type": "execute_result"
    }
   ],
   "source": [
    "extract_range([57, 13], [49, 53, 8])"
   ]
  },
  {
   "cell_type": "markdown",
   "metadata": {},
   "source": [
    "# Debugging: 2\n",
    "\n",
    "running `extract_range([57, 13], [49, 53, 8])` gives `[[61, 8], [53, 4]]` which doesn't make sense\n",
    "\n",
    "- sr = 57, 58, 59, 60, 61, 62, 63, 64, 65, 66, 67, 68, 69\n",
    "- mr = 53, 54, 55, 56, 57, 58, 59, 60\n",
    "- r0 = 53, 54, 55, 56\n",
    "- r1 = 61, 62, 63, 64, 65, 66, 67, 68, (missing: 69)"
   ]
  },
  {
   "cell_type": "code",
   "execution_count": 36,
   "metadata": {},
   "outputs": [
    {
     "data": {
      "text/plain": [
       "[[[52, 50, 48], [50, 98, 2]],\n",
       " [[39, 0, 15], [0, 15, 37], [37, 52, 2]],\n",
       " [[42, 0, 7], [57, 7, 4], [0, 11, 42], [49, 53, 8]],\n",
       " [[88, 18, 7], [18, 25, 70]],\n",
       " [[81, 45, 19], [68, 64, 13], [45, 77, 23]],\n",
       " [[1, 0, 69], [0, 69, 1]],\n",
       " [[60, 56, 37], [56, 93, 4]]]"
      ]
     },
     "execution_count": 36,
     "metadata": {},
     "output_type": "execute_result"
    }
   ],
   "source": [
    "maps1"
   ]
  },
  {
   "cell_type": "code",
   "execution_count": null,
   "metadata": {},
   "outputs": [],
   "source": []
  }
 ],
 "metadata": {
  "kernelspec": {
   "display_name": "Python 3",
   "language": "python",
   "name": "python3"
  },
  "language_info": {
   "codemirror_mode": {
    "name": "ipython",
    "version": 3
   },
   "file_extension": ".py",
   "mimetype": "text/x-python",
   "name": "python",
   "nbconvert_exporter": "python",
   "pygments_lexer": "ipython3",
   "version": "3.11.3"
  }
 },
 "nbformat": 4,
 "nbformat_minor": 2
}
