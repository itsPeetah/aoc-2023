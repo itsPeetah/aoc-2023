{
 "cells": [
  {
   "cell_type": "code",
   "execution_count": 11,
   "metadata": {},
   "outputs": [],
   "source": [
    "def getInput():\n",
    "    return open(\"../input/day_8.txt\").read()\n",
    "\n",
    "def getInputLines():\n",
    "    return getInput().split(\"\\n\")"
   ]
  },
  {
   "cell_type": "code",
   "execution_count": 59,
   "metadata": {},
   "outputs": [],
   "source": [
    "test1 = \"\"\"RL\n",
    "\n",
    "AAA = (BBB, CCC)\n",
    "BBB = (DDD, EEE)\n",
    "CCC = (ZZZ, GGG)\n",
    "DDD = (DDD, DDD)\n",
    "EEE = (EEE, EEE)\n",
    "GGG = (GGG, GGG)\n",
    "ZZZ = (ZZZ, ZZZ)\"\"\".strip()\n",
    "\n",
    "test2 = \"\"\"LLR\n",
    "\n",
    "AAA = (BBB, BBB)\n",
    "BBB = (AAA, ZZZ)\n",
    "ZZZ = (ZZZ, ZZZ)\"\"\"\n",
    "\n",
    "test3 = \"\"\"LR\n",
    "\n",
    "11A = (11B, XXX)\n",
    "11B = (XXX, 11Z)\n",
    "11Z = (11B, XXX)\n",
    "22A = (22B, XXX)\n",
    "22B = (22C, 22C)\n",
    "22C = (22Z, 22Z)\n",
    "22Z = (22B, 22B)\n",
    "XXX = (XXX, XXX)\"\"\".strip()\n",
    "\n",
    "text = getInput()"
   ]
  },
  {
   "cell_type": "markdown",
   "metadata": {},
   "source": [
    "# Day 8 Part 1"
   ]
  },
  {
   "cell_type": "code",
   "execution_count": 60,
   "metadata": {},
   "outputs": [
    {
     "data": {
      "text/plain": [
       "16697"
      ]
     },
     "execution_count": 60,
     "metadata": {},
     "output_type": "execute_result"
    }
   ],
   "source": [
    "import re\n",
    "\n",
    "puzzle_input = text\n",
    "\n",
    "moves = tuple(map(lambda c: 0 if c == \"L\" else 1, re.match(r\"([LR]+)\\n\", puzzle_input).group(1)))\n",
    "network = {s:(l,r) for s,l,r in [m.groups() for m in re.finditer(r\"([A-Z]+)\\s\\=\\s\\(([A-Z]+)\\,\\s([A-Z]+)\\)\", puzzle_input)]}\n",
    "\n",
    "move_counter = 0\n",
    "move_limit = len(moves)\n",
    "current_node = \"AAA\"\n",
    "while current_node != \"ZZZ\":\n",
    "    move = moves[move_counter % move_limit]\n",
    "    current_node = network[current_node][move]\n",
    "    move_counter += 1\n",
    "move_counter\n"
   ]
  },
  {
   "cell_type": "markdown",
   "metadata": {},
   "source": [
    "# Day 8 Part 2"
   ]
  },
  {
   "cell_type": "code",
   "execution_count": 89,
   "metadata": {},
   "outputs": [
    {
     "data": {
      "text/plain": [
       "10668805667831"
      ]
     },
     "execution_count": 89,
     "metadata": {},
     "output_type": "execute_result"
    }
   ],
   "source": [
    "import re\n",
    "from math import gcd\n",
    "\n",
    "puzzle_input = text\n",
    "\n",
    "moves = tuple(map(lambda c: 0 if c == \"L\" else 1, re.match(r\"([LR]+)\\n\", puzzle_input).group(1)))\n",
    "network = {s:(l,r) for s,l,r in [m.groups() for m in re.finditer(r\"([0-9A-Z]+)\\s\\=\\s\\(([1-9A-Z]+)\\,\\s([0-9A-Z]+)\\)\", puzzle_input)]}\n",
    "\n",
    "starting_nodes = [key for key in network.keys() if key[-1] == \"A\"]\n",
    "move_limit = len(moves)\n",
    "results = []\n",
    "for node in starting_nodes:\n",
    "    current_node = node\n",
    "    move_counter = 0\n",
    "    while current_node[-1] != \"Z\":\n",
    "        move = moves[move_counter % move_limit]\n",
    "        current_node = network[current_node][move]\n",
    "        move_counter += 1\n",
    "    results.append(move_counter)\n",
    "\n",
    "lcm = 1\n",
    "for res in results:\n",
    "    lcm = lcm*res//gcd(lcm, res)\n",
    "lcm"
   ]
  },
  {
   "cell_type": "code",
   "execution_count": null,
   "metadata": {},
   "outputs": [],
   "source": []
  }
 ],
 "metadata": {
  "kernelspec": {
   "display_name": "Python 3",
   "language": "python",
   "name": "python3"
  },
  "language_info": {
   "codemirror_mode": {
    "name": "ipython",
    "version": 3
   },
   "file_extension": ".py",
   "mimetype": "text/x-python",
   "name": "python",
   "nbconvert_exporter": "python",
   "pygments_lexer": "ipython3",
   "version": "3.11.3"
  }
 },
 "nbformat": 4,
 "nbformat_minor": 2
}
