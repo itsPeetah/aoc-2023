{
 "cells": [
  {
   "cell_type": "code",
   "execution_count": 1,
   "metadata": {},
   "outputs": [],
   "source": [
    "def getInput():\n",
    "    return open(\"../input/day_13.txt\").read()"
   ]
  },
  {
   "cell_type": "code",
   "execution_count": 3,
   "metadata": {},
   "outputs": [],
   "source": [
    "test = \"\"\"\n",
    "#.##..##.\n",
    "..#.##.#.\n",
    "##......#\n",
    "##......#\n",
    "..#.##.#.\n",
    "..##..##.\n",
    "#.#.##.#.\n",
    "\n",
    "#...##..#\n",
    "#....#..#\n",
    "..##..###\n",
    "#####.##.\n",
    "#####.##.\n",
    "..##..###\n",
    "#....#..#\n",
    "\"\"\".strip().split(\"\\n\\n\")\n",
    "\n",
    "text = getInput().split(\"\\n\\n\")"
   ]
  },
  {
   "cell_type": "markdown",
   "metadata": {},
   "source": [
    "# Day 13 Part 1"
   ]
  },
  {
   "cell_type": "markdown",
   "metadata": {},
   "source": [
    "## Constants"
   ]
  },
  {
   "cell_type": "code",
   "execution_count": 80,
   "metadata": {},
   "outputs": [],
   "source": [
    "CHAR_BIT_ON = \"#\"\n",
    "AXIS_ROWS = 0\n",
    "AXIS_COLS = 1\n",
    "ROW_MULTIPLIER = 100\n",
    "COL_MULTIPLIER = 1"
   ]
  },
  {
   "cell_type": "markdown",
   "metadata": {},
   "source": [
    "## Functions"
   ]
  },
  {
   "cell_type": "code",
   "execution_count": 88,
   "metadata": {},
   "outputs": [],
   "source": [
    "def flatten_pattern(pattern:str):\n",
    "    \"\"\"Returns (by_row, by_col)\"\"\"\n",
    "    lines = pattern.split(\"\\n\")\n",
    "    rows = len(lines)\n",
    "    cols = len(lines[0]) \n",
    "    # Horizontal\n",
    "    by_row,by_col = [], []\n",
    "    for y in range(rows):\n",
    "        row = 0\n",
    "        for x in range(cols):\n",
    "            row = (1 if lines[y][x] == CHAR_BIT_ON else 0) + (row << 1)\n",
    "        by_row.append(row)\n",
    "    # Vertical\n",
    "    for x in range(cols):\n",
    "        col = 0\n",
    "        for y in range(rows):\n",
    "            col = (1 if lines[y][x] == CHAR_BIT_ON else 0) + (col << 1)\n",
    "        by_col.append(col)\n",
    "    return tuple(by_row), tuple(by_col)\n",
    "\n",
    "def find_possible_reflections(pattern:tuple[tuple[int],tuple[int]]):\n",
    "    \"\"\"Returns (by_row, by_col, reflections)\"\"\"\n",
    "    by_row, by_col = pattern\n",
    "    reflections = []\n",
    "    for i in range(1, len(by_row)):\n",
    "        if by_row[i] == by_row[i-1]: reflections.append((i-1,i,AXIS_ROWS,i*ROW_MULTIPLIER))\n",
    "    for i in range(1, len(by_col)):\n",
    "        if by_col[i] == by_col[i-1]: reflections.append((i-1,i,AXIS_COLS,i*COL_MULTIPLIER))\n",
    "    return (by_row, by_col, tuple(reflections))\n",
    "\n",
    "def check_reflection(pattern:tuple[int], reflection:tuple[int,int]):\n",
    "    h, t = reflection\n",
    "    length = len(pattern)\n",
    "    while h >= 0 and t < length:\n",
    "        if pattern[h] != pattern[t]:\n",
    "            break\n",
    "        h -= 1\n",
    "        t += 1\n",
    "    # One of the two sides has reached the end\n",
    "    if (h < 0) or (t >= length):\n",
    "        return True\n",
    "    return False\n",
    "\n",
    "def find_reflection(pattern_reflections:tuple[tuple[int],tuple[int],tuple[int]]):\n",
    "    *pattern, reflections = pattern_reflections\n",
    "    for (lower,upper,axis,score) in reflections:\n",
    "        if check_reflection(pattern[axis], (lower,upper)):\n",
    "            return score\n",
    "    return 0"
   ]
  },
  {
   "cell_type": "code",
   "execution_count": 87,
   "metadata": {},
   "outputs": [
    {
     "data": {
      "text/plain": [
       "405"
      ]
     },
     "execution_count": 87,
     "metadata": {},
     "output_type": "execute_result"
    }
   ],
   "source": [
    "puzzle_input = test\n",
    "\n",
    "patterns = [flatten_pattern(block) for block in puzzle_input]\n",
    "potential_reflections = [find_possible_reflections(pattern) for pattern in patterns]\n",
    "reflections = [find_reflection(reflection) for reflection in potential_reflections]\n",
    "result = sum(reflections)\n",
    "result"
   ]
  }
 ],
 "metadata": {
  "kernelspec": {
   "display_name": "Python 3",
   "language": "python",
   "name": "python3"
  },
  "language_info": {
   "codemirror_mode": {
    "name": "ipython",
    "version": 3
   },
   "file_extension": ".py",
   "mimetype": "text/x-python",
   "name": "python",
   "nbconvert_exporter": "python",
   "pygments_lexer": "ipython3",
   "version": "3.11.3"
  }
 },
 "nbformat": 4,
 "nbformat_minor": 2
}
