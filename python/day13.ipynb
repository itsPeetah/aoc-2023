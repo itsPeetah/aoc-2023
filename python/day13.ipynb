{
 "cells": [
  {
   "cell_type": "code",
   "execution_count": 1,
   "metadata": {},
   "outputs": [],
   "source": [
    "def getInput():\n",
    "    return open(\"../input/day_13.txt\").read()"
   ]
  },
  {
   "cell_type": "code",
   "execution_count": 3,
   "metadata": {},
   "outputs": [],
   "source": [
    "test = \"\"\"\n",
    "#.##..##.\n",
    "..#.##.#.\n",
    "##......#\n",
    "##......#\n",
    "..#.##.#.\n",
    "..##..##.\n",
    "#.#.##.#.\n",
    "\n",
    "#...##..#\n",
    "#....#..#\n",
    "..##..###\n",
    "#####.##.\n",
    "#####.##.\n",
    "..##..###\n",
    "#....#..#\n",
    "\"\"\".strip().split(\"\\n\\n\")\n",
    "\n",
    "text = getInput().split(\"\\n\\n\")"
   ]
  },
  {
   "cell_type": "markdown",
   "metadata": {},
   "source": [
    "# Day 13 Part 1"
   ]
  },
  {
   "cell_type": "markdown",
   "metadata": {},
   "source": [
    "## Constants"
   ]
  },
  {
   "cell_type": "code",
   "execution_count": 35,
   "metadata": {},
   "outputs": [],
   "source": [
    "AXIS_HORIZONTAL = 0\n",
    "AXIS_VERTICAL = 1\n",
    "CHAR_BIT_ON = \"#\"\n",
    "ROW_MULTIPLIER = 100\n",
    "COL_MULTIPLIER = 1"
   ]
  },
  {
   "cell_type": "markdown",
   "metadata": {},
   "source": [
    "## Functions"
   ]
  },
  {
   "cell_type": "code",
   "execution_count": 71,
   "metadata": {},
   "outputs": [],
   "source": [
    "def flatten_pattern(pattern:str):\n",
    "    lines = pattern.split(\"\\n\")\n",
    "    rows = len(lines)\n",
    "    cols = len(lines[0]) \n",
    "    # Horizontal\n",
    "    by_row,by_col = [], []\n",
    "    for y in range(rows):\n",
    "        row = 0\n",
    "        for x in range(cols):\n",
    "            row = (1 if lines[y][x] == CHAR_BIT_ON else 0) + (row << 1)\n",
    "        by_row.append(row)\n",
    "    # Vertical\n",
    "    for x in range(cols):\n",
    "        col = 0\n",
    "        for y in range(rows):\n",
    "            col = (1 if lines[y][x] == CHAR_BIT_ON else 0) + (col << 1)\n",
    "        by_col.append(col)\n",
    "    return tuple(by_row), tuple(by_col)\n",
    "\n",
    "def find_possible_reflections(pattern:tuple[tuple[int],tuple[int]]):\n",
    "    by_row, by_col = pattern\n",
    "    row_reflections, col_reflections = [], []\n",
    "    for i in range(1, len(by_row)):\n",
    "        if by_row[i] == by_row[i-1]: row_reflections.append((i-1,i))\n",
    "    for i in range(1, len(by_col)):\n",
    "        if by_col[i] == by_col[i-1]: col_reflections.append((i-1,i))\n",
    "    by_row = (by_row, tuple(row_reflections))\n",
    "    by_col = (by_col, tuple(col_reflections))\n",
    "    return (by_row, by_col)\n",
    "\n",
    "def check_reflection(pattern:tuple[int], reflection:tuple[int,int]):\n",
    "    h, t = reflection\n",
    "    length = len(pattern)\n",
    "    while h >= 0 and t < length:\n",
    "        if pattern[h] != pattern[t]:\n",
    "            break\n",
    "        h -= 1\n",
    "        t += 1\n",
    "    # One of the two sides has reached the end\n",
    "    if (h < 0) or (t >= length):\n",
    "        return True\n",
    "    return False\n",
    "\n",
    "def find_reflection(pattern:tuple[tuple[tuple[int],tuple[int],tuple[int]]]):\n",
    "    (by_row, row_reflections),(by_col, col_reflections) = pattern\n",
    "    for (s,e) in row_reflections:\n",
    "        if check_reflection(by_row, (s,e)):\n",
    "            return (s+1) * ROW_MULTIPLIER\n",
    "    for (s,e) in col_reflections:\n",
    "        if check_reflection(by_col, (s,e)):\n",
    "            return (s+1) * COL_MULTIPLIER\n",
    "    return 0"
   ]
  },
  {
   "cell_type": "code",
   "execution_count": 74,
   "metadata": {},
   "outputs": [
    {
     "data": {
      "text/plain": [
       "405"
      ]
     },
     "execution_count": 74,
     "metadata": {},
     "output_type": "execute_result"
    }
   ],
   "source": [
    "puzzle_input = test\n",
    "\n",
    "patterns = [flatten_pattern(block) for block in puzzle_input]\n",
    "potential_reflections = [find_possible_reflections(pattern) for pattern in patterns]\n",
    "reflections = [find_reflection(reflection) for reflection in potential_reflections]\n",
    "result = sum(reflections)\n",
    "result"
   ]
  }
 ],
 "metadata": {
  "kernelspec": {
   "display_name": "Python 3",
   "language": "python",
   "name": "python3"
  },
  "language_info": {
   "codemirror_mode": {
    "name": "ipython",
    "version": 3
   },
   "file_extension": ".py",
   "mimetype": "text/x-python",
   "name": "python",
   "nbconvert_exporter": "python",
   "pygments_lexer": "ipython3",
   "version": "3.11.3"
  }
 },
 "nbformat": 4,
 "nbformat_minor": 2
}
