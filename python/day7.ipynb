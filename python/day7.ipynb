{
 "cells": [
  {
   "cell_type": "code",
   "execution_count": 2,
   "metadata": {},
   "outputs": [],
   "source": [
    "def getInput():\n",
    "    return open(\"../input/day_7.txt\").read()\n",
    "\n",
    "def getInputLines():\n",
    "    return getInput().split(\"\\n\")"
   ]
  },
  {
   "cell_type": "markdown",
   "metadata": {},
   "source": [
    "# Day 7 Part 1"
   ]
  },
  {
   "cell_type": "code",
   "execution_count": 30,
   "metadata": {},
   "outputs": [
    {
     "name": "stdout",
     "output_type": "stream",
     "text": [
      "result is: 254024898\n"
     ]
    }
   ],
   "source": [
    "import re\n",
    "\n",
    "text = \"\"\"32T3K 765\n",
    "T55J5 684\n",
    "KK677 28\n",
    "KTJJT 220\n",
    "QQQJA 483\"\"\".strip()\n",
    "\n",
    "text = getInput()\n",
    "\n",
    "SYMBOLS = { \"2\":0, \"3\": 1, \"4\":2, \"5\":3, \"6\":4, \"7\":5, \"8\":6, \"9\":7,\"T\":8, \"J\":9, \"Q\":10, \"K\":11, \"A\":12}\n",
    "TYPES = { \"11111\":0, \"1112\":1, \"122\":2, \"113\":3, \"23\":4, \"14\":5, \"5\":6}\n",
    "\n",
    "def hand_sorting(hand:tuple[int,int,int,int,int]):\n",
    "    occurrences = [0 for _ in range(13)]\n",
    "    for card in hand[0]: occurrences[card] += 1\n",
    "    htype = \"\".join([str(v) for v in sorted(occurrences) if v > 0])\n",
    "\n",
    "    return (TYPES[htype], *hand[0])\n",
    "\n",
    "hands = [(tuple(SYMBOLS[card] for card in cards), int(bid)) for cards, bid in [match.groups() for match in re.finditer(r\"([\\dTJQKA]+)\\s(\\d+)\", text)]]\n",
    "winnings = [(i+1) * bid for i,(_, bid) in enumerate(sorted(hands, key=hand_sorting))]\n",
    "\n",
    "print(\"result is:\", sum(winnings))\n"
   ]
  },
  {
   "cell_type": "markdown",
   "metadata": {},
   "source": [
    "# Day 6 Part 2"
   ]
  },
  {
   "cell_type": "code",
   "execution_count": 61,
   "metadata": {},
   "outputs": [
    {
     "name": "stdout",
     "output_type": "stream",
     "text": [
      "0.022716103001584997\n",
      "result is: 254115617\n"
     ]
    }
   ],
   "source": [
    "import re\n",
    "\n",
    "text = \"\"\"32T3K 765\n",
    "T55J5 684\n",
    "KK677 28\n",
    "KTJJT 220\n",
    "QQQJA 483\"\"\".strip()\n",
    "\n",
    "text = getInput()\n",
    "\n",
    "SYMBOLS = { \"J\":0, \"2\":1, \"3\": 2, \"4\":3, \"5\":4, \"6\":5, \"7\":6, \"8\":7, \"9\":8,\"T\":9, \"Q\":10, \"K\":11, \"A\":12}\n",
    "TYPES = { \"11111\":0, \"1112\":1, \"122\":2, \"113\":3, \"23\":4, \"14\":5, \"5\":6}\n",
    "\n",
    "def realize_joker(occurrences:list[int], hand:tuple[tuple[int], int]):\n",
    "    cards, bid = hand\n",
    "    jokers = occurrences[0]\n",
    "    occurrences[0] = 0\n",
    "    results = []\n",
    "    for i in range(1, 13):\n",
    "        # new_cards = tuple([c + (jokers if c == i else 0) for c in cards])\n",
    "        new_occ = [cih for cih in occurrences]\n",
    "        new_occ[i] += jokers\n",
    "        htype = TYPES[\"\".join([str(v) for v in sorted(new_occ) if v > 0])]\n",
    "        results.append((htype, *cards))\n",
    "    return sorted(results)[-1]\n",
    "\n",
    "def hand_sorting(hand:tuple[tuple[int], int]):\n",
    "    occurrences = [0 for _ in range(13)]\n",
    "    has_joker = False\n",
    "    for card in hand[0]:\n",
    "        if card < 1: has_joker = True\n",
    "        occurrences[card] += 1\n",
    "    if has_joker:\n",
    "        return realize_joker(occurrences, hand)\n",
    "    htype = TYPES[\"\".join([str(v) for v in sorted(occurrences) if v > 0])]\n",
    "    return (htype, *hand[0])\n",
    "\n",
    "hands = [(tuple(SYMBOLS[card] for card in cards), int(bid)) for cards, bid in [match.groups() for match in re.finditer(r\"([\\dTJQKA]+)\\s(\\d+)\", text)]]\n",
    "winnings = [(i+1) * bid for i,(_, bid) in enumerate(sorted(hands, key=hand_sorting))]\n",
    "print(\"result is:\", sum(winnings))\n"
   ]
  },
  {
   "cell_type": "markdown",
   "metadata": {},
   "source": [
    "# Ok lemme just dick around a little bit"
   ]
  },
  {
   "cell_type": "markdown",
   "metadata": {},
   "source": [
    "## Part 1 one liner"
   ]
  },
  {
   "cell_type": "code",
   "execution_count": 68,
   "metadata": {},
   "outputs": [
    {
     "data": {
      "text/plain": [
       "254024898"
      ]
     },
     "execution_count": 68,
     "metadata": {},
     "output_type": "execute_result"
    }
   ],
   "source": [
    "sum([(i+1) * bid for i,(_, bid) in enumerate(sorted([(tuple({ \"2\":0, \"3\": 1, \"4\":2, \"5\":3, \"6\":4, \"7\":5, \"8\":6, \"9\":7,\"T\":8, \"J\":9, \"Q\":10, \"K\":11, \"A\":12}[card] for card in cards), int(bid)) for cards, bid in [match.groups() for match in __import__(\"re\").finditer(r\"([\\dTJQKA]+)\\s(\\d+)\", open(\"../input/day_7.txt\").read())]], key=lambda x:({ \"11111\":0, \"1112\":1, \"122\":2, \"113\":3, \"23\":4, \"14\":5, \"5\":6}[\"\".join([str(v) for v in sorted([sum([1 for card in x[0] if card == i]) for i in range(13)]) if v > 0])], *x)))])"
   ]
  },
  {
   "cell_type": "markdown",
   "metadata": {},
   "source": [
    "## Part 2 Optimized\n",
    "\n",
    "@BLANKdev made me want to come back to this"
   ]
  },
  {
   "cell_type": "code",
   "execution_count": 62,
   "metadata": {},
   "outputs": [
    {
     "name": "stdout",
     "output_type": "stream",
     "text": [
      "result is: 254115617\n"
     ]
    }
   ],
   "source": [
    "import re\n",
    "\n",
    "text = \"\"\"32T3K 765\n",
    "T55J5 684\n",
    "KK677 28\n",
    "KTJJT 220\n",
    "QQQJA 483\"\"\".strip()\n",
    "\n",
    "text = getInput()\n",
    "\n",
    "SYMBOLS = { \"J\":0, \"2\":1, \"3\": 2, \"4\":3, \"5\":4, \"6\":5, \"7\":6, \"8\":7, \"9\":8,\"T\":9, \"Q\":10, \"K\":11, \"A\":12}\n",
    "TYPES = { \"11111\":0, \"1112\":1, \"122\":2, \"113\":3, \"23\":4, \"14\":5, \"5\":6}\n",
    "\n",
    "def hand_sorting(hand:tuple[tuple[int], int]):\n",
    "    occurrences = [len([1 for card in hand[0] if card == i]) for i in range(13)]\n",
    "    jokers = occurrences[0]\n",
    "    occurrences[0] = 0\n",
    "    max_occ = max(occurrences)\n",
    "    i = 12\n",
    "    while i >= 0 and occurrences[i] != max_occ:\n",
    "        i-=1\n",
    "    occurrences[i] += jokers\n",
    "    htype = TYPES[\"\".join([str(v) for v in sorted(occurrences) if v > 0])]\n",
    "    return (htype, hand[0]), occurrences\n",
    "\n",
    "hands = [(tuple(SYMBOLS[card] for card in cards), int(bid)) for cards, bid in [match.groups() for match in re.finditer(r\"([\\dTJQKA]+)\\s(\\d+)\", text)]]\n",
    "winnings = [(i+1) * bid for i,(_, bid) in enumerate(sorted(hands, key=hand_sorting))]\n",
    "print(\"result is:\", sum(winnings))\n",
    "# 254115617"
   ]
  },
  {
   "cell_type": "markdown",
   "metadata": {},
   "source": [
    "## Can I make a part 2 one liner?"
   ]
  },
  {
   "cell_type": "code",
   "execution_count": 81,
   "metadata": {},
   "outputs": [
    {
     "data": {
      "text/plain": [
       "254115617"
      ]
     },
     "execution_count": 81,
     "metadata": {},
     "output_type": "execute_result"
    }
   ],
   "source": [
    "import re\n",
    "\n",
    "def hand_sorting(hand:tuple[tuple[int], int]):\n",
    "    jokers, *occurrences = [len([1 for card in hand[0] if card == i]) for i in range(13)]\n",
    "    occurrences[11 - list(reversed(occurrences)).index(max(occurrences))] += jokers\n",
    "    return ({ \"11111\":0, \"1112\":1, \"122\":2, \"113\":3, \"23\":4, \"14\":5, \"5\":6}[\"\".join([str(v) for v in sorted(occurrences) if v > 0])], hand[0])\n",
    "\n",
    "sum([(i+1) * bid for i,(_, bid) in enumerate(sorted([(tuple({ \"J\":0, \"2\":1, \"3\": 2, \"4\":3, \"5\":4, \"6\":5, \"7\":6, \"8\":7, \"9\":8,\"T\":9, \"Q\":10, \"K\":11, \"A\":12}[card] for card in cards), int(bid)) for cards, bid in [match.groups() for match in re.finditer(r\"([\\dTJQKA]+)\\s(\\d+)\", open(\"../input/day_7.txt\").read())]], key=hand_sorting))])"
   ]
  },
  {
   "cell_type": "markdown",
   "metadata": {},
   "source": [
    "The dumbest way of doing this would be to re-compute occurrences every time it's needed"
   ]
  },
  {
   "cell_type": "code",
   "execution_count": 108,
   "metadata": {},
   "outputs": [
    {
     "data": {
      "text/plain": [
       "254115617"
      ]
     },
     "execution_count": 108,
     "metadata": {},
     "output_type": "execute_result"
    }
   ],
   "source": [
    "sum([(i+1) * bid for i,(_, bid) in enumerate(sorted([(tuple({ \"J\":0, \"2\":1, \"3\": 2, \"4\":3, \"5\":4, \"6\":5, \"7\":6, \"8\":7, \"9\":8,\"T\":9, \"Q\":10, \"K\":11, \"A\":12}[card] for card in cards), int(bid)) for cards, bid in [match.groups() for match in __import__(\"re\").finditer(r\"([\\dTJQKA]+)\\s(\\d+)\", open(\"../input/day_7.txt\").read())]], key=lambda hand: ({ \"11111\":0, \"1112\":1, \"122\":2, \"113\":3, \"23\":4, \"14\":5, \"5\":6}[\"\".join([str(v) for e, v in sorted(enumerate([(occ + ([len([1 for card in hand[0] if card == i]) for i in range(13)][0] if idx == 12 - list(reversed([len([1 for card in hand[0] if card == i]) for i in range(13)][1:])).index(max([len([1 for card in hand[0] if card == i]) for i in range(13)][1:])) else 0)) for idx, occ in enumerate([len([1 for card in hand[0] if card == y]) for y in range(13)])][1:]),key=lambda o:o[1]) if v > 0])], hand[0])))])"
   ]
  },
  {
   "cell_type": "code",
   "execution_count": null,
   "metadata": {},
   "outputs": [],
   "source": []
  }
 ],
 "metadata": {
  "kernelspec": {
   "display_name": "Python 3",
   "language": "python",
   "name": "python3"
  },
  "language_info": {
   "codemirror_mode": {
    "name": "ipython",
    "version": 3
   },
   "file_extension": ".py",
   "mimetype": "text/x-python",
   "name": "python",
   "nbconvert_exporter": "python",
   "pygments_lexer": "ipython3",
   "version": "3.11.3"
  }
 },
 "nbformat": 4,
 "nbformat_minor": 2
}
