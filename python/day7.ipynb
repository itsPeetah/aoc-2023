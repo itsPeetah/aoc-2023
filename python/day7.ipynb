{
 "cells": [
  {
   "cell_type": "code",
   "execution_count": 1,
   "metadata": {},
   "outputs": [],
   "source": [
    "def getInput():\n",
    "    return open(\"../input/day_7.txt\").read()\n",
    "\n",
    "def getInputLines():\n",
    "    return getInput().split(\"\\n\")"
   ]
  },
  {
   "cell_type": "markdown",
   "metadata": {},
   "source": [
    "# Day 7 Part 1"
   ]
  },
  {
   "cell_type": "code",
   "execution_count": 38,
   "metadata": {},
   "outputs": [
    {
     "name": "stdout",
     "output_type": "stream",
     "text": [
      "result is: 254024898\n"
     ]
    }
   ],
   "source": [
    "import re\n",
    "\n",
    "text = \"\"\"32T3K 765\n",
    "T55J5 684\n",
    "KK677 28\n",
    "KTJJT 220\n",
    "QQQJA 483\"\"\".strip()\n",
    "\n",
    "text = getInput()\n",
    "\n",
    "SYMBOLS = { \"2\":0, \"3\": 1, \"4\":2, \"5\":3, \"6\":4, \"7\":5, \"8\":6, \"9\":7,\"T\":8, \"J\":9, \"Q\":10, \"K\":11, \"A\":12}\n",
    "TYPES = { \"11111\":0, \"1112\":1, \"122\":2, \"113\":3, \"23\":4, \"14\":5, \"5\":6}\n",
    "\n",
    "def hand_sorting(hand:tuple[int,int,int,int,int]):\n",
    "    occurrences = [0 for _ in range(13)]\n",
    "    for card in hand[0]: occurrences[card] += 1\n",
    "    htype = \"\".join([str(v) for v in sorted(occurrences) if v > 0])\n",
    "\n",
    "    return (TYPES[htype], *hand)\n",
    "\n",
    "hands = [(tuple(SYMBOLS[card] for card in cards), int(bid)) for cards, bid in [match.groups() for match in re.finditer(r\"([\\dTJQKA]+)\\s(\\d+)\", text)]]\n",
    "winnings = [(i+1) * bid for i,(_, bid) in enumerate(sorted(hands, key=hand_sorting))]\n",
    "\n",
    "print(\"result is:\", sum(winnings))\n"
   ]
  },
  {
   "cell_type": "markdown",
   "metadata": {},
   "source": [
    "# Day 6 Part 2"
   ]
  },
  {
   "cell_type": "code",
   "execution_count": 57,
   "metadata": {},
   "outputs": [
    {
     "name": "stdout",
     "output_type": "stream",
     "text": [
      "result is: 254115617\n"
     ]
    }
   ],
   "source": [
    "import re\n",
    "\n",
    "text = \"\"\"32T3K 765\n",
    "T55J5 684\n",
    "KK677 28\n",
    "KTJJT 220\n",
    "QQQJA 483\"\"\".strip()\n",
    "\n",
    "text = getInput()\n",
    "\n",
    "SYMBOLS = { \"J\":0, \"2\":1, \"3\": 2, \"4\":3, \"5\":4, \"6\":5, \"7\":6, \"8\":7, \"9\":8,\"T\":9, \"Q\":10, \"K\":11, \"A\":12}\n",
    "TYPES = { \"11111\":0, \"1112\":1, \"122\":2, \"113\":3, \"23\":4, \"14\":5, \"5\":6}\n",
    "\n",
    "def realize_joker(occurrences:list[int], hand:tuple[tuple[int], int]):\n",
    "    cards, bid = hand\n",
    "    jokers = occurrences[0]\n",
    "    occurrences[0] = 0\n",
    "    results = []\n",
    "    for i in range(1, 13):\n",
    "        # new_cards = tuple([c + (jokers if c == i else 0) for c in cards])\n",
    "        new_occ = [cih for cih in occurrences]\n",
    "        new_occ[i] += jokers\n",
    "        htype = TYPES[\"\".join([str(v) for v in sorted(new_occ) if v > 0])]\n",
    "        results.append((htype, cards, bid))\n",
    "    return sorted(results)[-1]\n",
    "    \n",
    "\n",
    "def hand_sorting(hand:tuple[tuple[int], int]):\n",
    "    occurrences = [0 for _ in range(13)]\n",
    "    has_joker = False\n",
    "    for card in hand[0]:\n",
    "        if card < 1: has_joker = True\n",
    "        occurrences[card] += 1\n",
    "    if has_joker:\n",
    "        return realize_joker(occurrences, hand)\n",
    "    htype = TYPES[\"\".join([str(v) for v in sorted(occurrences) if v > 0])]\n",
    "    return (htype, *hand)\n",
    "\n",
    "hands = [(tuple(SYMBOLS[card] for card in cards), int(bid)) for cards, bid in [match.groups() for match in re.finditer(r\"([\\dTJQKA]+)\\s(\\d+)\", text)]]\n",
    "winnings = [(i+1) * bid for i,(_, bid) in enumerate(sorted(hands, key=hand_sorting))]\n",
    "\n",
    "print(\"result is:\", sum(winnings))\n"
   ]
  },
  {
   "cell_type": "code",
   "execution_count": null,
   "metadata": {},
   "outputs": [],
   "source": []
  }
 ],
 "metadata": {
  "kernelspec": {
   "display_name": "Python 3",
   "language": "python",
   "name": "python3"
  },
  "language_info": {
   "codemirror_mode": {
    "name": "ipython",
    "version": 3
   },
   "file_extension": ".py",
   "mimetype": "text/x-python",
   "name": "python",
   "nbconvert_exporter": "python",
   "pygments_lexer": "ipython3",
   "version": "3.11.3"
  }
 },
 "nbformat": 4,
 "nbformat_minor": 2
}
