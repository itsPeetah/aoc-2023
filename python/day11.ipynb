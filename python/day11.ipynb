{
 "cells": [
  {
   "cell_type": "code",
   "execution_count": 1,
   "metadata": {},
   "outputs": [],
   "source": [
    "def getInput():\n",
    "    return open(\"../input/day_11.txt\").read()"
   ]
  },
  {
   "cell_type": "code",
   "execution_count": 2,
   "metadata": {},
   "outputs": [],
   "source": [
    "test = \"\"\"\n",
    "...#......\n",
    ".......#..\n",
    "#.........\n",
    "..........\n",
    "......#...\n",
    ".#........\n",
    ".........#\n",
    "..........\n",
    ".......#..\n",
    "#...#.....\n",
    "\"\"\".strip()\n",
    "\n",
    "text = getInput()"
   ]
  },
  {
   "cell_type": "markdown",
   "metadata": {},
   "source": [
    "# Day 11 Part 1"
   ]
  },
  {
   "cell_type": "code",
   "execution_count": 92,
   "metadata": {},
   "outputs": [
    {
     "name": "stdout",
     "output_type": "stream",
     "text": [
      "Space size (OG): 140x140\n",
      "Space size (expanded): 151x145\n",
      "Result: 9550717\n"
     ]
    }
   ],
   "source": [
    "import re\n",
    "\n",
    "puzzle_input = text\n",
    "\n",
    "GALAXY = \"#\"\n",
    "EMPTY_SPACE = \".\"\n",
    "\n",
    "space = [[char for char in line] for line in puzzle_input.split(\"\\n\")]\n",
    "print(f\"Space size (OG): {len(space[0])}x{len(space)}\")\n",
    "# expand space\n",
    "rows_to_expand = [index for index in range(len(space)) if GALAXY not in space[index]]\n",
    "cols_to_expand = [index for index in range(len(space[0])) if not any([GALAXY == space[jndex][index] for jndex in range(len(space))])]\n",
    "empty_row = [EMPTY_SPACE for _ in range(len(space[0]))]\n",
    "for row in reversed(rows_to_expand):\n",
    "    space.insert(row, [char for char in empty_row])\n",
    "for col in reversed(cols_to_expand):\n",
    "    for i in range(len(space)):\n",
    "        space[i].insert(col, EMPTY_SPACE)\n",
    "rows = len(space)\n",
    "cols = len(space[0])\n",
    "print(f\"Space size (expanded): {cols}x{rows}\")\n",
    "expanded_space = \"\\n\".join([\"\".join(line) for line in space])\n",
    "# calculate distances\n",
    "galaxies = [(idx // (cols+1), (idx % (cols+1))) for idx in [m.span()[0] for m in re.finditer(r\"\\#\", expanded_space)]]\n",
    "distances = [[(abs(galaxies[i][0] - galaxies[j][0]) + abs(galaxies[i][1] - galaxies[j][1])) for j in range(i, len(galaxies))] for i in range(len(galaxies))]\n",
    "print(\"Result:\", sum([sum([d for d in ds]) for ds in distances]))"
   ]
  }
 ],
 "metadata": {
  "kernelspec": {
   "display_name": "Python 3",
   "language": "python",
   "name": "python3"
  },
  "language_info": {
   "codemirror_mode": {
    "name": "ipython",
    "version": 3
   },
   "file_extension": ".py",
   "mimetype": "text/x-python",
   "name": "python",
   "nbconvert_exporter": "python",
   "pygments_lexer": "ipython3",
   "version": "3.11.3"
  }
 },
 "nbformat": 4,
 "nbformat_minor": 2
}
