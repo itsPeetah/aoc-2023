{
 "cells": [
  {
   "cell_type": "markdown",
   "metadata": {},
   "source": [
    "# Day 2 Part 1"
   ]
  },
  {
   "cell_type": "code",
   "execution_count": 8,
   "metadata": {},
   "outputs": [],
   "source": [
    "def getInputLines():\n",
    "    return open(\"../input/day_2.txt\").read().split(\"\\n\")"
   ]
  },
  {
   "cell_type": "code",
   "execution_count": 43,
   "metadata": {},
   "outputs": [
    {
     "data": {
      "text/plain": [
       "2331"
      ]
     },
     "execution_count": 43,
     "metadata": {},
     "output_type": "execute_result"
    }
   ],
   "source": [
    "import re\n",
    "\n",
    "text = getInputLines()\n",
    "# Find all occurrenges of \"x y\" where x is an integer and y is either r, g or b\n",
    "regex = r\"\\d+ [rgb]\"    \n",
    "# Return a list where every element is a list of pulls from that game\n",
    "games = [ [s.split(\" \") for s in pull] for pull in [re.findall(regex, line) for line in text] ]\n",
    "\n",
    "maximum = {\n",
    "    \"r\":12,\n",
    "    \"g\":13,\n",
    "    \"b\":14,\n",
    "}\n",
    "\n",
    "result = 0\n",
    "for index,pulls in enumerate(games):\n",
    "    for num, color in pulls:\n",
    "        if int(num) > maximum[color]: break\n",
    "    # If it was possible\n",
    "    else:\n",
    "        result += index+1\n",
    "result\n",
    "    "
   ]
  },
  {
   "cell_type": "markdown",
   "metadata": {},
   "source": [
    "# Day 2 Part 2"
   ]
  },
  {
   "cell_type": "code",
   "execution_count": 51,
   "metadata": {},
   "outputs": [
    {
     "data": {
      "text/plain": [
       "71585"
      ]
     },
     "execution_count": 51,
     "metadata": {},
     "output_type": "execute_result"
    }
   ],
   "source": [
    "import re\n",
    "\n",
    "text = getInputLines()\n",
    "regex = r\"\\d+ [rgb]\"    \n",
    "games = [ [s.split(\" \") for s in pull] for pull in [re.findall(regex, line) for line in text] ]\n",
    "\n",
    "result = 0\n",
    "for game in games:\n",
    "    minimums = {}\n",
    "    for num, color in game:\n",
    "        val = int(num)\n",
    "        if color not in minimums or minimums[color] < val:\n",
    "            minimums[color] = val\n",
    "    power = (minimums[\"r\"] * minimums[\"g\"] * minimums[\"b\"])\n",
    "    result += power\n",
    "    \n",
    "result\n",
    "    "
   ]
  },
  {
   "cell_type": "code",
   "execution_count": null,
   "metadata": {},
   "outputs": [],
   "source": []
  }
 ],
 "metadata": {
  "kernelspec": {
   "display_name": "Python 3",
   "language": "python",
   "name": "python3"
  },
  "language_info": {
   "codemirror_mode": {
    "name": "ipython",
    "version": 3
   },
   "file_extension": ".py",
   "mimetype": "text/x-python",
   "name": "python",
   "nbconvert_exporter": "python",
   "pygments_lexer": "ipython3",
   "version": "3.11.3"
  }
 },
 "nbformat": 4,
 "nbformat_minor": 2
}
