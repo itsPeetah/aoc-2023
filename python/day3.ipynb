{
 "cells": [
  {
   "cell_type": "code",
   "execution_count": 4,
   "metadata": {},
   "outputs": [],
   "source": [
    "def getInput():\n",
    "    return open(\"../input/day_3.txt\").read()\n",
    "\n",
    "def getInputLines():\n",
    "    return getInput().split(\"\\n\")"
   ]
  },
  {
   "cell_type": "markdown",
   "metadata": {},
   "source": [
    "if only I knew regexps better I could probably use the newlines as boundaries and avoid a lot of checks"
   ]
  },
  {
   "cell_type": "markdown",
   "metadata": {},
   "source": [
    "# Day 3 Part 1"
   ]
  },
  {
   "cell_type": "code",
   "execution_count": 153,
   "metadata": {},
   "outputs": [
    {
     "name": "stdout",
     "output_type": "stream",
     "text": [
      "Numbers found: 10\n",
      "Symbols: {'#', '*', '+', '!', '$'}\n",
      "Rows: 10 , Columns: 10\n"
     ]
    },
    {
     "data": {
      "text/plain": [
       "4361"
      ]
     },
     "execution_count": 153,
     "metadata": {},
     "output_type": "execute_result"
    }
   ],
   "source": [
    "import re\n",
    "\n",
    "text = getInput()\n",
    "\n",
    "text = \"\"\"\n",
    "467..114..\n",
    ".!.*......\n",
    "..35..633.\n",
    "......#...\n",
    "617*......\n",
    ".!...+.58.\n",
    "..592.....\n",
    "......755.\n",
    "...$.*....\n",
    ".664.598..\n",
    "\"\"\".strip()\n",
    "\n",
    "matches = [match for match in re.finditer(r\"\\d+\", text)]\n",
    "symbols = set(re.findall(r\"\\D\", re.sub(r\"\\.\", \"\", re.sub(r\"\\n\", \"\", text))))\n",
    "\n",
    "print(\"Numbers found:\", len(matches))\n",
    "print(\"Symbols:\", symbols)\n",
    "\n",
    "columns = re.search(r\"\\n\", text).span()[0] # Width\n",
    "rows = (len(text)-1) // columns\n",
    "\n",
    "print(\"Rows:\", rows, \", Columns:\", columns)\n",
    "\n",
    "result = 0\n",
    "for match in matches:\n",
    "    # Find boundary\n",
    "    num = match.group()\n",
    "    width = len(num)\n",
    "    start, end = match.span()\n",
    "    row = start // (columns+1) # +1 accounts for the newline\n",
    "    col = start % (columns+1)\n",
    "    above, below, left, right = \"\", \"\", \"\", \"\"\n",
    "    if row > 0: # check row above\n",
    "        sAbove = (start - (columns+1)) - (1 if 0 < col < columns else 0)\n",
    "        eAbove = sAbove + width\n",
    "        above = text[sAbove:eAbove+2] # add it to the characters to check\n",
    "    if row < rows: # check row below\n",
    "        sBelow = (start + (columns+1)) - (1 if 0 < col < columns else 0)\n",
    "        eBelow = sBelow + width\n",
    "        below = text[sBelow:eBelow+2]\n",
    "    if col > 0: # check left\n",
    "        left = text[start-1]\n",
    "    if col < columns-1: # check right\n",
    "        right = text[end]\n",
    "    if(any([s in (above+left+right+below) for s in symbols])):\n",
    "        result += int(num)\n",
    "\n",
    "result"
   ]
  },
  {
   "cell_type": "markdown",
   "metadata": {},
   "source": [
    "# Day 3 Part 2"
   ]
  },
  {
   "cell_type": "code",
   "execution_count": 233,
   "metadata": {},
   "outputs": [],
   "source": [
    "# symbols = set(re.findall(r\"\\D\", re.sub(r\"\\.\", \"\", re.sub(r\"\\n\", \"\", text))))\n",
    "# regex_symbolsNoAsterisk = re.sub(\"\\*\", \"\", f\"[{''.join(symbols)}]\")\n",
    "# print(\"Symbols:\", symbols)"
   ]
  },
  {
   "cell_type": "code",
   "execution_count": 243,
   "metadata": {},
   "outputs": [
    {
     "name": "stdout",
     "output_type": "stream",
     "text": [
      "Rows: 140 , Columns: 140\n",
      "Asterisks found: 371\n",
      "Numbers found: 1227\n"
     ]
    },
    {
     "data": {
      "text/plain": [
       "93994191"
      ]
     },
     "execution_count": 243,
     "metadata": {},
     "output_type": "execute_result"
    }
   ],
   "source": [
    "import re\n",
    "\n",
    "text = getInput()\n",
    "\n",
    "# text = \"\"\"\n",
    "# 467..114..\n",
    "# ...*......\n",
    "# ..35..633.\n",
    "# ......#...\n",
    "# 617*......\n",
    "# .....+.58.\n",
    "# ..592.....\n",
    "# ......755.\n",
    "# ...$.*....\n",
    "# .664.598..\n",
    "# \"\"\".strip()\n",
    "\n",
    "asterisks = [match for match in re.finditer(\"\\*\", text)]\n",
    "numbers = [match for match in re.finditer(r\"\\d+\", text)]\n",
    "nA = len(asterisks)\n",
    "nN = len(numbers)\n",
    "\n",
    "columns = re.search(r\"\\n\", text).span()[0] # Width\n",
    "rows = (len(text)-1) // columns\n",
    "\n",
    "def roll_index(index:int):\n",
    "    row = index // (columns+1)\n",
    "    col = index % (columns+1)\n",
    "    return row, col\n",
    "\n",
    "def unroll_index(row:int, col:int):\n",
    "    return col + (row * columns) + row\n",
    "\n",
    "print(\"Rows:\", rows, \", Columns:\", columns)\n",
    "print(\"Asterisks found:\", nA)\n",
    "print(\"Numbers found:\", nN)\n",
    "\n",
    "#     x   y   z\n",
    "# *  d1  d2  d3\n",
    "# *  d4  d5  d6\n",
    "# *  d9  d8  d7\n",
    "graph = [[] for _ in range(nA)]\n",
    "for iA in range(nA):\n",
    "    ast = asterisks[iA]\n",
    "    apos = roll_index(ast.span()[0])\n",
    "    def distance(row:int, col:int):\n",
    "        d = abs(row-apos[0]) + abs(col-apos[1])\n",
    "        if abs(row-apos[0]) > 1 or abs(col-apos[1]) > 1 or d > 2:\n",
    "            return 1000\n",
    "        return d\n",
    "    for iN in range(nN):\n",
    "        num = numbers[iN]\n",
    "        nums,nume = num.span()\n",
    "        numspos = roll_index(nums)\n",
    "        numepos = roll_index(nume-1)\n",
    "        graph[iA].append((num.group(), distance(*numspos), distance(*numepos)))\n",
    "    graph[iA] = [node for node in graph[iA] if sum(node[1:]) < 2000]\n",
    "ratios = [(int(l[0][0]) * int(l[1][0])) for l in graph if len(l) > 1]\n",
    "sum(ratios)\n",
    "\n",
    "\n",
    "\n"
   ]
  },
  {
   "cell_type": "code",
   "execution_count": null,
   "metadata": {},
   "outputs": [],
   "source": []
  },
  {
   "cell_type": "code",
   "execution_count": null,
   "metadata": {},
   "outputs": [],
   "source": []
  }
 ],
 "metadata": {
  "kernelspec": {
   "display_name": "Python 3",
   "language": "python",
   "name": "python3"
  },
  "language_info": {
   "codemirror_mode": {
    "name": "ipython",
    "version": 3
   },
   "file_extension": ".py",
   "mimetype": "text/x-python",
   "name": "python",
   "nbconvert_exporter": "python",
   "pygments_lexer": "ipython3",
   "version": "3.11.3"
  }
 },
 "nbformat": 4,
 "nbformat_minor": 2
}
