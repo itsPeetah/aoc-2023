{
 "cells": [
  {
   "cell_type": "code",
   "execution_count": 1,
   "metadata": {},
   "outputs": [],
   "source": [
    "def getInput():\n",
    "    return open(\"../input/day_10.txt\").read()"
   ]
  },
  {
   "cell_type": "code",
   "execution_count": 50,
   "metadata": {},
   "outputs": [],
   "source": [
    "test1 = \"\"\"\n",
    "-L|F7\n",
    "7S-7|\n",
    "L|7||\n",
    "-L-J|\n",
    "L|-JF\n",
    "\"\"\".strip()\n",
    "\n",
    "test12 = \"\"\"\n",
    "-L|F7\n",
    "7S-7|\n",
    "L|7||\n",
    "-L-J|\n",
    "\"\"\".strip()\n",
    "\n",
    "test2 = \"\"\"\n",
    "7-F7-\n",
    ".FJ|7\n",
    "SJLL7\n",
    "|F--J\n",
    "LJ.LJ\n",
    "\"\"\".strip()\n",
    "\n",
    "text = getInput().strip()"
   ]
  },
  {
   "cell_type": "markdown",
   "metadata": {},
   "source": [
    "# Day 10 Part 1"
   ]
  },
  {
   "cell_type": "code",
   "execution_count": 72,
   "metadata": {},
   "outputs": [],
   "source": [
    "import numpy as np"
   ]
  },
  {
   "cell_type": "markdown",
   "metadata": {},
   "source": [
    "## Constants"
   ]
  },
  {
   "cell_type": "code",
   "execution_count": 95,
   "metadata": {},
   "outputs": [],
   "source": [
    "CONNECTS_NORTH = 1 << 0\n",
    "CONNECTS_EAST = 1 << 1\n",
    "CONNECTS_SOUTH = 1 << 2\n",
    "CONNECTS_WEST = 1 << 3\n",
    "\n",
    "PIPE_TILES = {\n",
    "    \"|\": CONNECTS_NORTH | CONNECTS_SOUTH,\n",
    "    \"-\": CONNECTS_EAST | CONNECTS_WEST,\n",
    "    \"L\": CONNECTS_NORTH | CONNECTS_EAST,\n",
    "    \"J\": CONNECTS_NORTH | CONNECTS_WEST,\n",
    "    \"7\": CONNECTS_SOUTH | CONNECTS_WEST,\n",
    "    \"F\": CONNECTS_EAST | CONNECTS_SOUTH,\n",
    "    \".\": 0,\n",
    "    \"S\": -1,\n",
    "}\n",
    "\n",
    "PIPE_TILES_INVERTED = { v:k for k,v in PIPE_TILES.items() }"
   ]
  },
  {
   "cell_type": "markdown",
   "metadata": {},
   "source": [
    "## Functions"
   ]
  },
  {
   "cell_type": "code",
   "execution_count": 120,
   "metadata": {},
   "outputs": [],
   "source": [
    "def parse_input(i:str) -> tuple[np.ndarray, tuple[int, int]]:\n",
    "    \"\"\"Parse the string matrix into a connectivity matrix\"\"\"\n",
    "    lines = i.split(\"\\n\")\n",
    "    cols = len(lines[0])\n",
    "    rows = len(lines)\n",
    "    matrix = np.ndarray((rows, cols), dtype=np.int8)\n",
    "    start_position = None\n",
    "    for y in range(rows):\n",
    "        for x in range(cols):\n",
    "            val = PIPE_TILES[lines[y][x]]\n",
    "            matrix[y][x] = val\n",
    "            if val < 0: start_position = (y,x)\n",
    "    return matrix, start_position\n",
    "\n",
    "def dir_to_str(dir:int):\n",
    "    if dir == CONNECTS_NORTH: return \"North\"\n",
    "    if dir == CONNECTS_EAST: return \"East\"\n",
    "    if dir == CONNECTS_SOUTH: return \"South\"\n",
    "    if dir == CONNECTS_WEST: return \"West\"\n",
    "    return \"NaD\"\n",
    "\n",
    "def check_connection(current_tile:int, adjacent_tile:int, side_to_connect:int) -> bool:\n",
    "    \"\"\"Check if current_tile connects to adjacent_tile on the side_to_connect\"\"\"\n",
    "    curr_has_connection = (current_tile & side_to_connect) > 0\n",
    "    adja_has_connection = False\n",
    "    if side_to_connect == CONNECTS_NORTH:\n",
    "        adja_has_connection = (adjacent_tile & CONNECTS_SOUTH) > 0\n",
    "    elif side_to_connect == CONNECTS_EAST:\n",
    "        adja_has_connection = (adjacent_tile & CONNECTS_WEST) > 0\n",
    "    elif side_to_connect == CONNECTS_SOUTH:\n",
    "        adja_has_connection = (adjacent_tile & CONNECTS_NORTH) > 0\n",
    "    elif side_to_connect == CONNECTS_WEST:\n",
    "        adja_has_connection = (adjacent_tile & CONNECTS_EAST) > 0\n",
    "    return curr_has_connection and adja_has_connection\n",
    "\n",
    "def collapse_start(matrix:np.ndarray, start_position:tuple[int, int]):\n",
    "    \"\"\"This works on the *manually verified* assumption that the starting point can only connects to two tiles (in the test cases and the input)\"\"\"\n",
    "    rows, cols = matrix.shape\n",
    "    sr, sc = start_position\n",
    "    connections = 0\n",
    "    if sr > 0 and (matrix[sr-1][sc] & CONNECTS_SOUTH) > 0: # check north\n",
    "        connections |= CONNECTS_NORTH\n",
    "    if sc < cols - 1 and (matrix[sr][sc+1] & CONNECTS_WEST) > 0: # check east\n",
    "        connections |= CONNECTS_EAST\n",
    "    if sr < rows - 1 and (matrix[sr+1][sc] & CONNECTS_NORTH) > 0: # check south\n",
    "        connections |= CONNECTS_SOUTH\n",
    "    if sc > 0 and (matrix[sr][sc-1] & CONNECTS_EAST) > 0: # connect west\n",
    "        connections |= CONNECTS_WEST\n",
    "    return connections\n",
    "\n",
    "def get_coordinates_for_side(current_coords:tuple[int,int], side:int) -> tuple[int,int]:\n",
    "    row, col = current_coords\n",
    "    if side == CONNECTS_NORTH: return (row - 1, col)\n",
    "    if side == CONNECTS_EAST: return (row, col + 1)\n",
    "    if side == CONNECTS_SOUTH: return (row + 1, col)\n",
    "    if side == CONNECTS_WEST: return (row, col -1)\n",
    "    return (-1, -1)\n",
    "\n",
    "\n",
    "def walk_loop(start_collapsed_matrix:np.ndarray, start_position:tuple[int, int]) -> int:\n",
    "    \"\"\"Start walking the loop and return its length\"\"\"\n",
    "    rows, cols = start_collapsed_matrix.shape\n",
    "    def is_valid_tile(rowcol:tuple[int, int]) -> bool:\n",
    "        row, col = rowcol\n",
    "        return not (row < 0 or col < 0 or row >= rows or col >= cols)\n",
    "    \n",
    "    curr_row, curr_col = start_position\n",
    "    loop_length = 0\n",
    "\n",
    "    sides = [CONNECTS_NORTH, CONNECTS_EAST, CONNECTS_SOUTH, CONNECTS_WEST]\n",
    "\n",
    "    came_from_side_idx = -1\n",
    "    while loop_length <= 0 or (curr_row, curr_col) != start_position:\n",
    "        # Find next direction (side to move to)\n",
    "        curr_side_idx = 0\n",
    "        while True:\n",
    "            side = sides[curr_side_idx]\n",
    "            (att_row, att_col) = get_coordinates_for_side((curr_row, curr_col), side)\n",
    "            valid = is_valid_tile((att_row, att_col))\n",
    "            walk_back = curr_side_idx == came_from_side_idx\n",
    "            if valid and (not walk_back) and check_connection( start_collapsed_matrix[curr_row][curr_col], start_collapsed_matrix[att_row][att_col], side):\n",
    "                break \n",
    "            curr_side_idx = (curr_side_idx + 1) % 4\n",
    "        # print(f\"Arrived from the {dir_to_str(sides[came_from_side_idx])} to {(curr_row, curr_col)} ({PIPE_TILES_INVERTED[start_collapsed_matrix[curr_row][curr_col]]}), took a step {dir_to_str(side)}\")\n",
    "        curr_row, curr_col = get_coordinates_for_side((curr_row, curr_col), side)\n",
    "        came_from_side_idx = (curr_side_idx + 2) % 4\n",
    "        # Count step\n",
    "        loop_length += 1\n",
    "    return loop_length\n",
    "    \n",
    "    "
   ]
  },
  {
   "cell_type": "markdown",
   "metadata": {},
   "source": [
    "## Execution"
   ]
  },
  {
   "cell_type": "code",
   "execution_count": 114,
   "metadata": {},
   "outputs": [
    {
     "name": "stdout",
     "output_type": "stream",
     "text": [
      "Loop length: 13394 -> 6697\n"
     ]
    }
   ],
   "source": [
    "matrix, (srow, scol) = parse_input(text)\n",
    "s = collapse_start(matrix, (srow, scol))\n",
    "matrix[srow][scol] = s\n",
    "loop_length = walk_loop(matrix, (srow, scol))\n",
    "print(\"Loop length:\", loop_length, \"->\", loop_length // 2)"
   ]
  },
  {
   "cell_type": "markdown",
   "metadata": {},
   "source": [
    "# Day 10 Part 2"
   ]
  },
  {
   "cell_type": "code",
   "execution_count": 115,
   "metadata": {},
   "outputs": [],
   "source": [
    "import numpy as np"
   ]
  },
  {
   "cell_type": "markdown",
   "metadata": {},
   "source": [
    "## Constants"
   ]
  },
  {
   "cell_type": "code",
   "execution_count": 118,
   "metadata": {},
   "outputs": [],
   "source": [
    "CONNECTS_NORTH = 1 << 0\n",
    "CONNECTS_EAST = 1 << 1\n",
    "CONNECTS_SOUTH = 1 << 2\n",
    "CONNECTS_WEST = 1 << 3\n",
    "\n",
    "PIPE_TILES = {\n",
    "    \"|\": CONNECTS_NORTH | CONNECTS_SOUTH,\n",
    "    \"-\": CONNECTS_EAST | CONNECTS_WEST,\n",
    "    \"L\": CONNECTS_NORTH | CONNECTS_EAST,\n",
    "    \"J\": CONNECTS_NORTH | CONNECTS_WEST,\n",
    "    \"7\": CONNECTS_SOUTH | CONNECTS_WEST,\n",
    "    \"F\": CONNECTS_EAST | CONNECTS_SOUTH,\n",
    "    \".\": 0,\n",
    "    \"S\": -1,\n",
    "}\n",
    "\n",
    "PIPE_TILES_INVERTED = { v:k for k,v in PIPE_TILES.items() }"
   ]
  },
  {
   "cell_type": "markdown",
   "metadata": {},
   "source": [
    "## Functions"
   ]
  },
  {
   "cell_type": "code",
   "execution_count": 217,
   "metadata": {},
   "outputs": [],
   "source": [
    "def parse_input(i:str) -> tuple[np.ndarray, tuple[int, int]]:\n",
    "    \"\"\"Parse the string matrix into a connectivity matrix\"\"\"\n",
    "    lines = i.split(\"\\n\")\n",
    "    cols = len(lines[0])\n",
    "    rows = len(lines)\n",
    "    matrix = np.ndarray((rows, cols), dtype=np.int8)\n",
    "    start_position = None\n",
    "    for y in range(rows):\n",
    "        for x in range(cols):\n",
    "            val = PIPE_TILES[lines[y][x]]\n",
    "            matrix[y][x] = val\n",
    "            if val < 0: start_position = (y,x)\n",
    "    return matrix, start_position\n",
    "\n",
    "def dir_to_str(dir:int):\n",
    "    if dir == CONNECTS_NORTH: return \"North\"\n",
    "    if dir == CONNECTS_EAST: return \"East\"\n",
    "    if dir == CONNECTS_SOUTH: return \"South\"\n",
    "    if dir == CONNECTS_WEST: return \"West\"\n",
    "    return \"NaD\"\n",
    "\n",
    "def check_connection(current_tile:int, adjacent_tile:int, side_to_connect:int) -> bool:\n",
    "    \"\"\"Check if current_tile connects to adjacent_tile on the side_to_connect\"\"\"\n",
    "    curr_has_connection = (current_tile & side_to_connect) > 0\n",
    "    adja_has_connection = False\n",
    "    if side_to_connect == CONNECTS_NORTH:\n",
    "        adja_has_connection = (adjacent_tile & CONNECTS_SOUTH) > 0\n",
    "    elif side_to_connect == CONNECTS_EAST:\n",
    "        adja_has_connection = (adjacent_tile & CONNECTS_WEST) > 0\n",
    "    elif side_to_connect == CONNECTS_SOUTH:\n",
    "        adja_has_connection = (adjacent_tile & CONNECTS_NORTH) > 0\n",
    "    elif side_to_connect == CONNECTS_WEST:\n",
    "        adja_has_connection = (adjacent_tile & CONNECTS_EAST) > 0\n",
    "    return curr_has_connection and adja_has_connection\n",
    "\n",
    "def collapse_start(matrix:np.ndarray, start_position:tuple[int, int]):\n",
    "    \"\"\"This works on the *manually verified* assumption that the starting point can only connects to two tiles (in the test cases and the input)\"\"\"\n",
    "    rows, cols = matrix.shape\n",
    "    sr, sc = start_position\n",
    "    connections = 0\n",
    "    if sr > 0 and (matrix[sr-1][sc] & CONNECTS_SOUTH) > 0: # check north\n",
    "        connections |= CONNECTS_NORTH\n",
    "    if sc < cols - 1 and (matrix[sr][sc+1] & CONNECTS_WEST) > 0: # check east\n",
    "        connections |= CONNECTS_EAST\n",
    "    if sr < rows - 1 and (matrix[sr+1][sc] & CONNECTS_NORTH) > 0: # check south\n",
    "        connections |= CONNECTS_SOUTH\n",
    "    if sc > 0 and (matrix[sr][sc-1] & CONNECTS_EAST) > 0: # connect west\n",
    "        connections |= CONNECTS_WEST\n",
    "    return connections\n",
    "\n",
    "def get_coordinates_for_side(current_coords:tuple[int,int], side:int) -> tuple[int,int]:\n",
    "    row, col = current_coords\n",
    "    if side == CONNECTS_NORTH: return (row - 1, col)\n",
    "    if side == CONNECTS_EAST: return (row, col + 1)\n",
    "    if side == CONNECTS_SOUTH: return (row + 1, col)\n",
    "    if side == CONNECTS_WEST: return (row, col -1)\n",
    "    return (-1, -1)\n",
    "\n",
    "\n",
    "def walk_loop(start_collapsed_matrix:np.ndarray, start_position:tuple[int, int]) -> int:\n",
    "    \"\"\"Start walking the loop and return its length\"\"\"\n",
    "    rows, cols = start_collapsed_matrix.shape\n",
    "    def is_valid_tile(rowcol:tuple[int, int]) -> bool:\n",
    "        row, col = rowcol\n",
    "        return not (row < 0 or col < 0 or row >= rows or col >= cols)\n",
    "    \n",
    "    curr_row, curr_col = start_position\n",
    "    loop_length = 0\n",
    "    loop_map = np.zeros((rows, cols), dtype=np.int8)\n",
    "\n",
    "    sides = [CONNECTS_NORTH, CONNECTS_EAST, CONNECTS_SOUTH, CONNECTS_WEST]\n",
    "\n",
    "    came_from_side_idx = -1\n",
    "    while loop_length <= 0 or (curr_row, curr_col) != start_position:\n",
    "        # Mark position on map\n",
    "        loop_map[curr_row][curr_col] = start_collapsed_matrix[curr_row][curr_col]\n",
    "        # Find next direction (side to move to)\n",
    "        curr_side_idx = 0\n",
    "        while True:\n",
    "            side = sides[curr_side_idx]\n",
    "            (att_row, att_col) = get_coordinates_for_side((curr_row, curr_col), side)\n",
    "            valid = is_valid_tile((att_row, att_col))\n",
    "            walk_back = curr_side_idx == came_from_side_idx\n",
    "            if valid and (not walk_back) and check_connection( start_collapsed_matrix[curr_row][curr_col], start_collapsed_matrix[att_row][att_col], side):\n",
    "                break \n",
    "            curr_side_idx = (curr_side_idx + 1) % 4\n",
    "        # print(f\"Arrived from the {dir_to_str(sides[came_from_side_idx])} to {(curr_row, curr_col)} ({PIPE_TILES_INVERTED[start_collapsed_matrix[curr_row][curr_col]]}), took a step {dir_to_str(side)}\")\n",
    "        curr_row, curr_col = get_coordinates_for_side((curr_row, curr_col), side)\n",
    "        came_from_side_idx = (curr_side_idx + 2) % 4\n",
    "        # Count step\n",
    "        loop_length += 1\n",
    "    return loop_length, loop_map\n",
    "\n",
    "def divide_regions(pipe_map:np.ndarray, loop_map:np.ndarray, region_values:tuple[int,int]=(-1,1)):\n",
    "    rows, cols = pipe_map.shape\n",
    "    region_map = np.zeros((rows, cols), dtype=np.int16)\n",
    "    current_region = 0\n",
    "    for y in range(rows):\n",
    "        for x in range(cols):\n",
    "            if loop_map[y][x] < 1:\n",
    "                region_map[y][x] = region_values[current_region]\n",
    "            elif (pipe_map[y][x] & CONNECTS_SOUTH) > 0:\n",
    "                current_region = (current_region+1)%2\n",
    "    return region_map\n",
    "    "
   ]
  },
  {
   "cell_type": "markdown",
   "metadata": {},
   "source": [
    "## Execution"
   ]
  },
  {
   "cell_type": "code",
   "execution_count": 227,
   "metadata": {},
   "outputs": [
    {
     "data": {
      "text/plain": [
       "423"
      ]
     },
     "execution_count": 227,
     "metadata": {},
     "output_type": "execute_result"
    }
   ],
   "source": [
    "matrix, (srow, scol) = parse_input(text)\n",
    "s = collapse_start(matrix, (srow, scol))\n",
    "matrix[srow][scol] = s\n",
    "loop_length, loop_map = walk_loop(matrix, (srow, scol))\n",
    "regions = divide_regions(matrix, loop_map)\n",
    "np.where(regions > 0, 1, 0).sum().sum()\n"
   ]
  },
  {
   "cell_type": "markdown",
   "metadata": {},
   "source": [
    "## Visualization"
   ]
  },
  {
   "cell_type": "code",
   "execution_count": 219,
   "metadata": {},
   "outputs": [],
   "source": [
    "from PIL import Image"
   ]
  },
  {
   "cell_type": "code",
   "execution_count": 220,
   "metadata": {},
   "outputs": [
    {
     "data": {
      "image/png": "[encoded data removed]",
      "text/plain": [
       "<PIL.Image.Image image mode=RGB size=700x700>"
      ]
     },
     "execution_count": 220,
     "metadata": {},
     "output_type": "execute_result"
    }
   ],
   "source": [
    "def get_color(i):\n",
    "    v = matrix[i // matrix.shape[0]][i % matrix.shape[1]]\n",
    "    l = loop_map[i // matrix.shape[0]][i % matrix.shape[1]]\n",
    "    # return (10,20,30) if v == 0 else (55,155,255)\n",
    "    return ((10,10,255) if l == 0 else (v*20,v*20,v*20))\n",
    "\n",
    "img = Image.new(\"RGB\", matrix.shape, (0,0,0))\n",
    "img.putdata([\n",
    "    get_color(i)\n",
    "    for i in range(matrix.shape[0] * matrix.shape[1])\n",
    "])\n",
    "img.resize((matrix.shape[0]*5, matrix.shape[1]*5), Image.NEAREST)"
   ]
  },
  {
   "cell_type": "code",
   "execution_count": 237,
   "metadata": {},
   "outputs": [
    {
     "data": {
      "image/png": "[encoded data removed]",
      "text/plain": [
       "<PIL.Image.Image image mode=RGB size=700x700>"
      ]
     },
     "execution_count": 237,
     "metadata": {},
     "output_type": "execute_result"
    }
   ],
   "source": [
    "def get_color(i):\n",
    "    v = regions[i // regions.shape[0]][i % regions.shape[1]]\n",
    "    m = matrix[i // matrix.shape[0]][i % matrix.shape[1]] * 10\n",
    "    m = m / 255\n",
    "    # return (10,20,30) if v == 0 else (55,155,255)\n",
    "    return (52,25,5) if v < 0 else ((int(m * 41),int(m * 14),int(m * 144)) ,(16,166,61))[v]\n",
    "\n",
    "img = Image.new(\"RGB\", matrix.shape, (0,0,0))\n",
    "img.putdata([\n",
    "    get_color(i)\n",
    "    for i in range(matrix.shape[0] * matrix.shape[1])\n",
    "])\n",
    "img.resize((matrix.shape[0]*5, matrix.shape[1]*5), Image.NEAREST)"
   ]
  },
  {
   "cell_type": "code",
   "execution_count": null,
   "metadata": {},
   "outputs": [],
   "source": []
  }
 ],
 "metadata": {
  "kernelspec": {
   "display_name": "Python 3",
   "language": "python",
   "name": "python3"
  },
  "language_info": {
   "codemirror_mode": {
    "name": "ipython",
    "version": 3
   },
   "file_extension": ".py",
   "mimetype": "text/x-python",
   "name": "python",
   "nbconvert_exporter": "python",
   "pygments_lexer": "ipython3",
   "version": "3.11.3"
  }
 },
 "nbformat": 4,
 "nbformat_minor": 2
}
