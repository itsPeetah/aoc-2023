{
 "cells": [
  {
   "cell_type": "code",
   "execution_count": 3,
   "metadata": {},
   "outputs": [],
   "source": [
    "def getInput():\n",
    "    return open(\"../input/day_6.txt\").read()\n",
    "\n",
    "def getInputLines():\n",
    "    return getInput().split(\"\\n\")"
   ]
  },
  {
   "cell_type": "markdown",
   "metadata": {},
   "source": [
    "# Day 6 Part 1"
   ]
  },
  {
   "cell_type": "code",
   "execution_count": 10,
   "metadata": {},
   "outputs": [
    {
     "name": "stdout",
     "output_type": "stream",
     "text": [
      "1624896\n"
     ]
    }
   ],
   "source": [
    "import re\n",
    "\n",
    "\n",
    "\n",
    "time,dist = \"\"\"\n",
    "Time:      7  15   30\n",
    "Distance:  9  40  200\n",
    "\"\"\".strip().split(\"\\n\")\n",
    "time, dist = getInputLines()\n",
    "time = [int(t) for t in re.findall(r\"\\d+\", time)]\n",
    "dist = [int(d) for d in re.findall(r\"\\d+\", dist)]\n",
    "\n",
    "# demented part 1\n",
    "result = 1\n",
    "for i, t in enumerate(time):\n",
    "    solutions = 0\n",
    "    for p in range(t):\n",
    "        if p * (t - p) > dist[i]:\n",
    "            solutions += 1\n",
    "    result *= solutions\n",
    "print(result)\n"
   ]
  },
  {
   "cell_type": "markdown",
   "metadata": {},
   "source": [
    "# Day 6 Part 2"
   ]
  },
  {
   "cell_type": "code",
   "execution_count": 17,
   "metadata": {},
   "outputs": [
    {
     "name": "stdout",
     "output_type": "stream",
     "text": [
      "32583852\n"
     ]
    }
   ],
   "source": [
    "import re\n",
    "\n",
    "time,dist = \"\"\"\n",
    "Time:      7  15   30\n",
    "Distance:  9  40  200\n",
    "\"\"\".strip().split(\"\\n\")\n",
    "time, dist = getInputLines()\n",
    "time = int(\"\".join(re.findall(r\"\\d+\", time)))\n",
    "dist = int(\"\".join(re.findall(r\"\\d+\", dist)))\n",
    "\n",
    "# demented part 2\n",
    "\n",
    "solutions = 0\n",
    "for pressed in range(time):\n",
    "    if pressed * (time - pressed) > dist:\n",
    "        solutions += 1\n",
    "print(solutions)\n"
   ]
  },
  {
   "cell_type": "code",
   "execution_count": null,
   "metadata": {},
   "outputs": [],
   "source": []
  }
 ],
 "metadata": {
  "kernelspec": {
   "display_name": "Python 3",
   "language": "python",
   "name": "python3"
  },
  "language_info": {
   "codemirror_mode": {
    "name": "ipython",
    "version": 3
   },
   "file_extension": ".py",
   "mimetype": "text/x-python",
   "name": "python",
   "nbconvert_exporter": "python",
   "pygments_lexer": "ipython3",
   "version": "3.11.3"
  }
 },
 "nbformat": 4,
 "nbformat_minor": 2
}
